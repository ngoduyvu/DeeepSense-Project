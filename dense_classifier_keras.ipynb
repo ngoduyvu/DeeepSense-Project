{
 "cells": [
  {
   "cell_type": "markdown",
   "metadata": {},
   "source": [
    "## Classifying Good Product Reviews: Keras Model"
   ]
  },
  {
   "cell_type": "markdown",
   "metadata": {},
   "source": [
    "### Organize imports"
   ]
  },
  {
   "cell_type": "code",
   "execution_count": 1,
   "metadata": {},
   "outputs": [
    {
     "name": "stderr",
     "output_type": "stream",
     "text": [
      "Using TensorFlow backend.\n"
     ]
    }
   ],
   "source": [
    "from __future__ import division, print_function, absolute_import\n",
    "from sklearn.feature_extraction.text import *\n",
    "from sklearn.linear_model import LogisticRegression\n",
    "from sklearn.metrics import roc_curve, auc\n",
    "from sklearn.model_selection import train_test_split\n",
    "\n",
    "import keras\n",
    "from keras.datasets import mnist\n",
    "from keras.layers import Dense, Flatten, LSTM, Dropout\n",
    "from keras.layers import Conv2D, MaxPooling2D\n",
    "from keras.models import Sequential\n",
    "\n",
    "import matplotlib.pyplot as plt\n",
    "%matplotlib inline\n",
    "import numpy as np\n",
    "import pandas as pd\n",
    "import random\n",
    "import sklearn\n",
    "import string"
   ]
  },
  {
   "cell_type": "markdown",
   "metadata": {},
   "source": [
    "### Load and split dataset\n",
    "\n",
    "Note that the 'review_text' field in the dataset has already been normalized (removed capitalization, punctuation, and stopwords)."
   ]
  },
  {
   "cell_type": "code",
   "execution_count": 171,
   "metadata": {},
   "outputs": [
    {
     "data": {
      "text/html": [
       "<div>\n",
       "<style>\n",
       "    .dataframe thead tr:only-child th {\n",
       "        text-align: right;\n",
       "    }\n",
       "\n",
       "    .dataframe thead th {\n",
       "        text-align: left;\n",
       "    }\n",
       "\n",
       "    .dataframe tbody tr th {\n",
       "        vertical-align: top;\n",
       "    }\n",
       "</style>\n",
       "<table border=\"1\" class=\"dataframe\">\n",
       "  <thead>\n",
       "    <tr style=\"text-align: right;\">\n",
       "      <th></th>\n",
       "      <th>asin</th>\n",
       "      <th>overall</th>\n",
       "      <th>good</th>\n",
       "      <th>bad</th>\n",
       "      <th>review_text</th>\n",
       "    </tr>\n",
       "    <tr>\n",
       "      <th>reviewer_id</th>\n",
       "      <th></th>\n",
       "      <th></th>\n",
       "      <th></th>\n",
       "      <th></th>\n",
       "      <th></th>\n",
       "    </tr>\n",
       "  </thead>\n",
       "  <tbody>\n",
       "    <tr>\n",
       "      <th>A30E1NNKCPPZPQ</th>\n",
       "      <td>446579807</td>\n",
       "      <td>1</td>\n",
       "      <td>0</td>\n",
       "      <td>1</td>\n",
       "      <td>unimpressive ramblings reading richard dawkins...</td>\n",
       "    </tr>\n",
       "    <tr>\n",
       "      <th>A1IRXCPPMVGIG4</th>\n",
       "      <td>618680004</td>\n",
       "      <td>1</td>\n",
       "      <td>0</td>\n",
       "      <td>1</td>\n",
       "      <td>fall short glory author mortal intellect serve...</td>\n",
       "    </tr>\n",
       "    <tr>\n",
       "      <th>A3OX26QQQS51XK</th>\n",
       "      <td>B006R2N8VS</td>\n",
       "      <td>2</td>\n",
       "      <td>0</td>\n",
       "      <td>0</td>\n",
       "      <td>customer service ignores emails apparently unl...</td>\n",
       "    </tr>\n",
       "    <tr>\n",
       "      <th>A2APILRM6LRRUC</th>\n",
       "      <td>395169615</td>\n",
       "      <td>1</td>\n",
       "      <td>0</td>\n",
       "      <td>1</td>\n",
       "      <td>nightmarish steam shovel personified enough bo...</td>\n",
       "    </tr>\n",
       "    <tr>\n",
       "      <th>A2LYB6RQ35PN8Y</th>\n",
       "      <td>470248424</td>\n",
       "      <td>1</td>\n",
       "      <td>0</td>\n",
       "      <td>0</td>\n",
       "      <td>duper duped duping gullibles man duper duped u...</td>\n",
       "    </tr>\n",
       "  </tbody>\n",
       "</table>\n",
       "</div>"
      ],
      "text/plain": [
       "                      asin  overall  good  bad  \\\n",
       "reviewer_id                                      \n",
       "A30E1NNKCPPZPQ   446579807        1     0    1   \n",
       "A1IRXCPPMVGIG4   618680004        1     0    1   \n",
       "A3OX26QQQS51XK  B006R2N8VS        2     0    0   \n",
       "A2APILRM6LRRUC   395169615        1     0    1   \n",
       "A2LYB6RQ35PN8Y   470248424        1     0    0   \n",
       "\n",
       "                                                      review_text  \n",
       "reviewer_id                                                        \n",
       "A30E1NNKCPPZPQ  unimpressive ramblings reading richard dawkins...  \n",
       "A1IRXCPPMVGIG4  fall short glory author mortal intellect serve...  \n",
       "A3OX26QQQS51XK  customer service ignores emails apparently unl...  \n",
       "A2APILRM6LRRUC  nightmarish steam shovel personified enough bo...  \n",
       "A2LYB6RQ35PN8Y  duper duped duping gullibles man duper duped u...  "
      ]
     },
     "execution_count": 171,
     "metadata": {},
     "output_type": "execute_result"
    }
   ],
   "source": [
    "def split_train_test(df, test_size):\n",
    "    train, test = train_test_split(df, test_size=test_size, random_state=random.randint(0, 99))\n",
    "    train.reset_index(drop=True, inplace=True)\n",
    "    test.reset_index(drop=True, inplace=True)\n",
    "    return train, test\n",
    "\n",
    "dataset_path = 'prepare_new_data/william_combine_data.csv' # Minimized dataset\n",
    "\n",
    "df = pd.read_csv(dataset_path, sep=',', index_col=0,encoding=\"ISO-8859-1\")\n",
    "\n",
    "# Training: 60%, Validation: 20%, Testing: 20%\n",
    "df_train, df_test = split_train_test(df, 0.200)\n",
    "df_train, df_val = split_train_test(df_train, 0.250)\n",
    "\n",
    "df.head()"
   ]
  },
  {
   "cell_type": "markdown",
   "metadata": {},
   "source": [
    "### Featurize"
   ]
  },
  {
   "cell_type": "markdown",
   "metadata": {},
   "source": [
    "#### tf-idf"
   ]
  },
  {
   "cell_type": "code",
   "execution_count": 172,
   "metadata": {},
   "outputs": [
    {
     "name": "stdout",
     "output_type": "stream",
     "text": [
      "Fitting tf-idf featurizer.\n",
      "Featurizing training set.\n",
      "Shape: (399984, 500)\n",
      "Featurizing validation set.\n",
      "Shape: (133329, 500)\n",
      "Featurizing test set.\n",
      "Shape: (133329, 500)\n"
     ]
    }
   ],
   "source": [
    "class TfidfFeaturizer(object):\n",
    "    def __init__(self, col_name='review_text', max_features=1000):\n",
    "        self.col_name = col_name\n",
    "        self.max_features = max_features\n",
    "        self.vectorizer = None\n",
    "        \n",
    "    def fit_transform(self, df):\n",
    "        docs = self.__create_doc_list(df)\n",
    "        self.vectorizer = TfidfVectorizer(\n",
    "            analyzer='word',\n",
    "            ngram_range=(1,3),\n",
    "            max_features=self.max_features,\n",
    "            stop_words = 'english'\n",
    "        )\n",
    "        return (self.vectorizer.fit_transform(docs)).toarray()\n",
    "\n",
    "    def transform(self, df):\n",
    "        if self.vectorizer is not None:\n",
    "            docs = self.__create_doc_list(df)\n",
    "            return (self.vectorizer.transform(docs)).toarray()\n",
    "        else:\n",
    "            return None\n",
    "\n",
    "    def __create_doc_list(self, df):\n",
    "        return df[self.col_name].tolist()\n",
    "\n",
    "n_tfidf_features = 500\n",
    "tfidf_featurizer = TfidfFeaturizer(max_features=n_tfidf_features)\n",
    "\n",
    "print('Fitting tf-idf featurizer.')\n",
    "tfidf_featurizer.fit_transform(df)\n",
    "\n",
    "print('Featurizing training set.')\n",
    "tfidf_train = tfidf_featurizer.transform(df_train)\n",
    "n_train = tfidf_train.shape[0]\n",
    "print('Shape:', tfidf_train.shape)\n",
    "\n",
    "print('Featurizing validation set.')\n",
    "tfidf_val = tfidf_featurizer.transform(df_val)\n",
    "n_val = tfidf_val.shape[0]\n",
    "print('Shape:', tfidf_val.shape)\n",
    "\n",
    "print('Featurizing test set.')\n",
    "tfidf_test = tfidf_featurizer.transform(df_test)\n",
    "n_test = tfidf_test.shape[0]\n",
    "print('Shape:', tfidf_test.shape)"
   ]
  },
  {
   "cell_type": "code",
   "execution_count": 173,
   "metadata": {
    "collapsed": true
   },
   "outputs": [],
   "source": [
    "matrix_train = tfidf_train\n",
    "matrix_val   = tfidf_val\n",
    "matrix_test  = tfidf_test"
   ]
  },
  {
   "cell_type": "code",
   "execution_count": 174,
   "metadata": {
    "collapsed": true
   },
   "outputs": [],
   "source": [
    "from sklearn.preprocessing import StandardScaler\n",
    "scaler = StandardScaler()\n",
    "# Fit only to the training data\n",
    "scaler.fit(matrix_train)\n",
    "matrix_train = scaler.transform(matrix_train)\n",
    "matrix_val = scaler.transform(matrix_val)\n",
    "matrix_test = scaler.transform(matrix_test)"
   ]
  },
  {
   "cell_type": "markdown",
   "metadata": {},
   "source": [
    "### Configure labels"
   ]
  },
  {
   "cell_type": "code",
   "execution_count": 175,
   "metadata": {
    "collapsed": true
   },
   "outputs": [],
   "source": [
    "target_class = 'good'\n",
    "\n",
    "labels_train = np.array(df_train[target_class])\n",
    "labels_val = np.array(df_val[target_class])\n",
    "labels_test = np.array(df_test[target_class])"
   ]
  },
  {
   "cell_type": "code",
   "execution_count": 176,
   "metadata": {},
   "outputs": [
    {
     "name": "stdout",
     "output_type": "stream",
     "text": [
      "399984\n"
     ]
    }
   ],
   "source": [
    "print(len(labels_train))"
   ]
  },
  {
   "cell_type": "markdown",
   "metadata": {},
   "source": [
    "### Setup Logger"
   ]
  },
  {
   "cell_type": "code",
   "execution_count": 177,
   "metadata": {
    "collapsed": true
   },
   "outputs": [],
   "source": [
    "class AccuracyHistory(keras.callbacks.Callback):\n",
    "    def on_train_begin(self, logs={}):\n",
    "        self.acc = []\n",
    "        self.val_acc = []\n",
    "        self.loss = []\n",
    "        self.val_loss = []\n",
    "\n",
    "    def on_epoch_end(self, batch, logs={}):\n",
    "        self.acc.append(logs.get('acc'))\n",
    "        self.val_acc.append(logs.get('val_acc'))\n",
    "\n",
    "history = AccuracyHistory()"
   ]
  },
  {
   "cell_type": "code",
   "execution_count": 178,
   "metadata": {},
   "outputs": [
    {
     "data": {
      "text/plain": [
       "<keras.callbacks.History at 0xb12ca19dd8>"
      ]
     },
     "execution_count": 178,
     "metadata": {},
     "output_type": "execute_result"
    }
   ],
   "source": [
    "batch_size = 100\n",
    "epochs = 30\n",
    "\n",
    "model = Sequential()\n",
    "model.add(Dense(64, input_dim=500, activation='relu'))\n",
    "model.add(Dropout(0.25))\n",
    "model.add(Dense(24, activation='relu'))\n",
    "model.add(Dense(1, activation='sigmoid'))\n",
    "\n",
    "# Compile model\n",
    "model.compile(loss='binary_crossentropy', optimizer='adam', metrics=['accuracy'])\n",
    "# Fit the model\n",
    "model.fit(matrix_train, labels_train,\n",
    "          epochs=epochs,\n",
    "          batch_size=batch_size,\n",
    "          verbose=0,\n",
    "          validation_data=(matrix_test, labels_test),\n",
    "          callbacks=[history])"
   ]
  },
  {
   "cell_type": "markdown",
   "metadata": {},
   "source": [
    "### Evaluate model on test set"
   ]
  },
  {
   "cell_type": "code",
   "execution_count": 179,
   "metadata": {},
   "outputs": [
    {
     "name": "stdout",
     "output_type": "stream",
     "text": [
      "\n",
      "acc: 72.14%\n",
      "Validation loss: 0.547136229706\n",
      "Validation accuracy: 0.72139594537\n"
     ]
    }
   ],
   "source": [
    "# evaluate the model\n",
    "score = model.evaluate(matrix_val, labels_val, verbose=0)\n",
    "print(\"\\n%s: %.2f%%\" % (model.metrics_names[1], score[1]*100))\n",
    "print('Validation loss:', score[0])\n",
    "print('Validation accuracy:', score[1])"
   ]
  },
  {
   "cell_type": "markdown",
   "metadata": {},
   "source": [
    "### Visualize results"
   ]
  },
  {
   "cell_type": "code",
   "execution_count": 180,
   "metadata": {},
   "outputs": [
    {
     "data": {
      "image/png": "[encoded data removed]",
      "text/plain": [
       "<matplotlib.figure.Figure at 0xb1cdce9a90>"
      ]
     },
     "metadata": {},
     "output_type": "display_data"
    }
   ],
   "source": [
    "plt.plot(range(1,epochs+1), history.acc, label='Train Acc')\n",
    "plt.plot(range(1,epochs+1), history.val_acc, label='Validation Acc')\n",
    "plt.legend(loc='best')\n",
    "plt.xlabel('Epochs')\n",
    "plt.ylabel('Accuracy')\n",
    "plt.show()"
   ]
  },
  {
   "cell_type": "code",
   "execution_count": 12,
   "metadata": {},
   "outputs": [
    {
     "name": "stdout",
     "output_type": "stream",
     "text": [
      "Saved model to disk\n"
     ]
    }
   ],
   "source": [
    "# serialize model to JSON\n",
    "model_json = model.to_json()\n",
    "with open(\"prepare_new_data\\model.json\", \"w\") as json_file:\n",
    "    json_file.write(model_json)\n",
    "# serialize weights to HDF5\n",
    "model.save_weights(\"prepare_new_data\\model.h5\")\n",
    "print(\"Saved model to disk\")"
   ]
  },
  {
   "cell_type": "code",
   "execution_count": 77,
   "metadata": {},
   "outputs": [
    {
     "name": "stdout",
     "output_type": "stream",
     "text": [
      "Loaded model from disk\n"
     ]
    }
   ],
   "source": [
    "from keras.models import model_from_json\n",
    "# load json and create model\n",
    "json_file = open('model.json', 'r')\n",
    "loaded_model_json = json_file.read()\n",
    "json_file.close()\n",
    "loaded_model = model_from_json(loaded_model_json)\n",
    "# load weights into new model\n",
    "loaded_model.load_weights(\"model.h5\")\n",
    "print(\"Loaded model from disk\")"
   ]
  },
  {
   "cell_type": "markdown",
   "metadata": {},
   "source": [
    "# Testing the model"
   ]
  },
  {
   "cell_type": "code",
   "execution_count": 19,
   "metadata": {},
   "outputs": [
    {
     "data": {
      "text/plain": [
       "(19638, 300)"
      ]
     },
     "execution_count": 19,
     "metadata": {},
     "output_type": "execute_result"
    }
   ],
   "source": [
    "matrix_val.shape"
   ]
  },
  {
   "cell_type": "code",
   "execution_count": 28,
   "metadata": {
    "collapsed": true
   },
   "outputs": [],
   "source": [
    "a = model.predict(matrix_test)"
   ]
  },
  {
   "cell_type": "code",
   "execution_count": 48,
   "metadata": {},
   "outputs": [
    {
     "data": {
      "text/html": [
       "<div>\n",
       "<style>\n",
       "    .dataframe thead tr:only-child th {\n",
       "        text-align: right;\n",
       "    }\n",
       "\n",
       "    .dataframe thead th {\n",
       "        text-align: left;\n",
       "    }\n",
       "\n",
       "    .dataframe tbody tr th {\n",
       "        vertical-align: top;\n",
       "    }\n",
       "</style>\n",
       "<table border=\"1\" class=\"dataframe\">\n",
       "  <thead>\n",
       "    <tr style=\"text-align: right;\">\n",
       "      <th></th>\n",
       "      <th>reviewer_id</th>\n",
       "      <th>asin</th>\n",
       "      <th>overall</th>\n",
       "      <th>category</th>\n",
       "      <th>score</th>\n",
       "      <th>good</th>\n",
       "      <th>bad</th>\n",
       "      <th>review_text</th>\n",
       "    </tr>\n",
       "  </thead>\n",
       "  <tbody>\n",
       "    <tr>\n",
       "      <th>100</th>\n",
       "      <td>AO7M9071TCL8U</td>\n",
       "      <td>B00CCILYDA</td>\n",
       "      <td>3</td>\n",
       "      <td>10</td>\n",
       "      <td>0.272727</td>\n",
       "      <td>0</td>\n",
       "      <td>0</td>\n",
       "      <td>question product pause vhs tape playing switch...</td>\n",
       "    </tr>\n",
       "    <tr>\n",
       "      <th>101</th>\n",
       "      <td>A1ZQR3EQ7K3LKJ</td>\n",
       "      <td>B005UBNKZG</td>\n",
       "      <td>1</td>\n",
       "      <td>10</td>\n",
       "      <td>0.136364</td>\n",
       "      <td>0</td>\n",
       "      <td>1</td>\n",
       "      <td>needs bulldozer cpus need bulldozer need run b...</td>\n",
       "    </tr>\n",
       "    <tr>\n",
       "      <th>102</th>\n",
       "      <td>A2CR57GAJKNWVV</td>\n",
       "      <td>743452402</td>\n",
       "      <td>4</td>\n",
       "      <td>5</td>\n",
       "      <td>0.583333</td>\n",
       "      <td>0</td>\n",
       "      <td>0</td>\n",
       "      <td>good zelazny feel oberon soldier nothing fight...</td>\n",
       "    </tr>\n",
       "    <tr>\n",
       "      <th>103</th>\n",
       "      <td>A3711ET9XQ8BKP</td>\n",
       "      <td>1433506254</td>\n",
       "      <td>1</td>\n",
       "      <td>5</td>\n",
       "      <td>0.195652</td>\n",
       "      <td>0</td>\n",
       "      <td>1</td>\n",
       "      <td>christ like mess book makes disturbingly clear...</td>\n",
       "    </tr>\n",
       "    <tr>\n",
       "      <th>104</th>\n",
       "      <td>AZ39SOZT3NZQU</td>\n",
       "      <td>891077669</td>\n",
       "      <td>1</td>\n",
       "      <td>5</td>\n",
       "      <td>0.122807</td>\n",
       "      <td>0</td>\n",
       "      <td>1</td>\n",
       "      <td>mental illness book scary putting science soul...</td>\n",
       "    </tr>\n",
       "    <tr>\n",
       "      <th>105</th>\n",
       "      <td>A3JBYOHGGXY4N2</td>\n",
       "      <td>B002HEWA2I</td>\n",
       "      <td>5</td>\n",
       "      <td>10</td>\n",
       "      <td>0.840000</td>\n",
       "      <td>1</td>\n",
       "      <td>0</td>\n",
       "      <td>great portable inexpensive camera camera great...</td>\n",
       "    </tr>\n",
       "    <tr>\n",
       "      <th>106</th>\n",
       "      <td>A1EYJKNRSGZ4OK</td>\n",
       "      <td>B0007M3PKS</td>\n",
       "      <td>2</td>\n",
       "      <td>10</td>\n",
       "      <td>0.538462</td>\n",
       "      <td>0</td>\n",
       "      <td>0</td>\n",
       "      <td>worth extra money well got model test returnin...</td>\n",
       "    </tr>\n",
       "    <tr>\n",
       "      <th>107</th>\n",
       "      <td>A2LH791QCM1W6J</td>\n",
       "      <td>199828075</td>\n",
       "      <td>3</td>\n",
       "      <td>5</td>\n",
       "      <td>0.777778</td>\n",
       "      <td>0</td>\n",
       "      <td>0</td>\n",
       "      <td>ignorance bliss saw short book display table b...</td>\n",
       "    </tr>\n",
       "    <tr>\n",
       "      <th>108</th>\n",
       "      <td>A3BAK6H3YS5SC6</td>\n",
       "      <td>981276717</td>\n",
       "      <td>5</td>\n",
       "      <td>5</td>\n",
       "      <td>0.295238</td>\n",
       "      <td>0</td>\n",
       "      <td>0</td>\n",
       "      <td>challenging compelling book caused polarized m...</td>\n",
       "    </tr>\n",
       "    <tr>\n",
       "      <th>109</th>\n",
       "      <td>AI2X3LOSONWNS</td>\n",
       "      <td>091103823X</td>\n",
       "      <td>1</td>\n",
       "      <td>5</td>\n",
       "      <td>0.344828</td>\n",
       "      <td>0</td>\n",
       "      <td>0</td>\n",
       "      <td>another holocaust deniers polemic putative his...</td>\n",
       "    </tr>\n",
       "    <tr>\n",
       "      <th>110</th>\n",
       "      <td>A264QUB4HB6FQJ</td>\n",
       "      <td>1400113245</td>\n",
       "      <td>2</td>\n",
       "      <td>5</td>\n",
       "      <td>0.172185</td>\n",
       "      <td>0</td>\n",
       "      <td>1</td>\n",
       "      <td>juvenile sophism read unaware systemic corrupt...</td>\n",
       "    </tr>\n",
       "    <tr>\n",
       "      <th>111</th>\n",
       "      <td>A3F64PK0D3MLRR</td>\n",
       "      <td>B000068O3T</td>\n",
       "      <td>5</td>\n",
       "      <td>10</td>\n",
       "      <td>0.909091</td>\n",
       "      <td>1</td>\n",
       "      <td>0</td>\n",
       "      <td>great adapter adapter gets job done cause loss...</td>\n",
       "    </tr>\n",
       "    <tr>\n",
       "      <th>112</th>\n",
       "      <td>A95HC39E1TROS</td>\n",
       "      <td>446613827</td>\n",
       "      <td>1</td>\n",
       "      <td>5</td>\n",
       "      <td>0.384615</td>\n",
       "      <td>0</td>\n",
       "      <td>0</td>\n",
       "      <td>disappointing disappointed love welfonder book...</td>\n",
       "    </tr>\n",
       "    <tr>\n",
       "      <th>113</th>\n",
       "      <td>A170IF5UYL8FX9</td>\n",
       "      <td>60524448</td>\n",
       "      <td>2</td>\n",
       "      <td>5</td>\n",
       "      <td>0.558824</td>\n",
       "      <td>0</td>\n",
       "      <td>0</td>\n",
       "      <td>another diet book taking armour thyroid past y...</td>\n",
       "    </tr>\n",
       "    <tr>\n",
       "      <th>114</th>\n",
       "      <td>A3EI32YH1R21Z7</td>\n",
       "      <td>983650322</td>\n",
       "      <td>3</td>\n",
       "      <td>5</td>\n",
       "      <td>0.111111</td>\n",
       "      <td>0</td>\n",
       "      <td>1</td>\n",
       "      <td>revealing eden big thanks netgalley sand dolla...</td>\n",
       "    </tr>\n",
       "    <tr>\n",
       "      <th>115</th>\n",
       "      <td>APSBN75ZYUZ9P</td>\n",
       "      <td>71401946</td>\n",
       "      <td>3</td>\n",
       "      <td>5</td>\n",
       "      <td>0.764706</td>\n",
       "      <td>0</td>\n",
       "      <td>0</td>\n",
       "      <td>could wrong opinion recommended book psycholog...</td>\n",
       "    </tr>\n",
       "    <tr>\n",
       "      <th>116</th>\n",
       "      <td>A26KHZE0HTS057</td>\n",
       "      <td>316001929</td>\n",
       "      <td>3</td>\n",
       "      <td>5</td>\n",
       "      <td>0.548387</td>\n",
       "      <td>0</td>\n",
       "      <td>0</td>\n",
       "      <td>watch hbo series rome fun miss much pick book ...</td>\n",
       "    </tr>\n",
       "    <tr>\n",
       "      <th>117</th>\n",
       "      <td>ABN8OZHQ9SI8P</td>\n",
       "      <td>B000F44NU4</td>\n",
       "      <td>5</td>\n",
       "      <td>10</td>\n",
       "      <td>0.200000</td>\n",
       "      <td>0</td>\n",
       "      <td>1</td>\n",
       "      <td>music sound denon avr hear vast differences tw...</td>\n",
       "    </tr>\n",
       "    <tr>\n",
       "      <th>118</th>\n",
       "      <td>A1LVZOK9F7K4CN</td>\n",
       "      <td>671703765</td>\n",
       "      <td>2</td>\n",
       "      <td>5</td>\n",
       "      <td>0.400000</td>\n",
       "      <td>0</td>\n",
       "      <td>0</td>\n",
       "      <td>operation success philip roth taste acquired y...</td>\n",
       "    </tr>\n",
       "    <tr>\n",
       "      <th>119</th>\n",
       "      <td>A272VAWTTTCKLA</td>\n",
       "      <td>B006ORXY6K</td>\n",
       "      <td>1</td>\n",
       "      <td>10</td>\n",
       "      <td>0.581395</td>\n",
       "      <td>0</td>\n",
       "      <td>0</td>\n",
       "      <td>beware ipad new ipad compatible case ipad love...</td>\n",
       "    </tr>\n",
       "    <tr>\n",
       "      <th>120</th>\n",
       "      <td>A19N1167A3503H</td>\n",
       "      <td>310293685</td>\n",
       "      <td>2</td>\n",
       "      <td>5</td>\n",
       "      <td>0.275862</td>\n",
       "      <td>0</td>\n",
       "      <td>0</td>\n",
       "      <td>annoying book ever read story sweet touching f...</td>\n",
       "    </tr>\n",
       "    <tr>\n",
       "      <th>121</th>\n",
       "      <td>A1SXR6C5WIFFWM</td>\n",
       "      <td>449909336</td>\n",
       "      <td>1</td>\n",
       "      <td>5</td>\n",
       "      <td>0.337079</td>\n",
       "      <td>0</td>\n",
       "      <td>0</td>\n",
       "      <td>trusted picked book read first pages getting p...</td>\n",
       "    </tr>\n",
       "    <tr>\n",
       "      <th>122</th>\n",
       "      <td>A3IMK08UX0I46A</td>\n",
       "      <td>B003GDBFWK</td>\n",
       "      <td>1</td>\n",
       "      <td>10</td>\n",
       "      <td>0.681818</td>\n",
       "      <td>0</td>\n",
       "      <td>0</td>\n",
       "      <td>base unstable got version monitor exact base u...</td>\n",
       "    </tr>\n",
       "    <tr>\n",
       "      <th>123</th>\n",
       "      <td>A2SBLF1MTB4740</td>\n",
       "      <td>60675365</td>\n",
       "      <td>3</td>\n",
       "      <td>5</td>\n",
       "      <td>0.550000</td>\n",
       "      <td>0</td>\n",
       "      <td>0</td>\n",
       "      <td>christianity changing even agree spong conclus...</td>\n",
       "    </tr>\n",
       "    <tr>\n",
       "      <th>124</th>\n",
       "      <td>AXDT0CY20S164</td>\n",
       "      <td>B0015YRMXI</td>\n",
       "      <td>5</td>\n",
       "      <td>10</td>\n",
       "      <td>0.937931</td>\n",
       "      <td>1</td>\n",
       "      <td>0</td>\n",
       "      <td>works great splits hdmi dvi flawlessly receive...</td>\n",
       "    </tr>\n",
       "    <tr>\n",
       "      <th>125</th>\n",
       "      <td>A2I32IXSFQ8NV3</td>\n",
       "      <td>B00009R6WY</td>\n",
       "      <td>4</td>\n",
       "      <td>10</td>\n",
       "      <td>0.765432</td>\n",
       "      <td>0</td>\n",
       "      <td>0</td>\n",
       "      <td>good superior zoom recently tried step mainsta...</td>\n",
       "    </tr>\n",
       "    <tr>\n",
       "      <th>126</th>\n",
       "      <td>A7ME2T0LH83J5</td>\n",
       "      <td>756402190</td>\n",
       "      <td>2</td>\n",
       "      <td>5</td>\n",
       "      <td>0.200000</td>\n",
       "      <td>0</td>\n",
       "      <td>1</td>\n",
       "      <td>copycat book rip obvious everybody knows way a...</td>\n",
       "    </tr>\n",
       "    <tr>\n",
       "      <th>127</th>\n",
       "      <td>A13WK0568LZNL0</td>\n",
       "      <td>60763957</td>\n",
       "      <td>5</td>\n",
       "      <td>5</td>\n",
       "      <td>0.714286</td>\n",
       "      <td>0</td>\n",
       "      <td>0</td>\n",
       "      <td>hardy clarke deserve money hey folks let face ...</td>\n",
       "    </tr>\n",
       "    <tr>\n",
       "      <th>128</th>\n",
       "      <td>AKT8TGIT6VVZ5</td>\n",
       "      <td>385537654</td>\n",
       "      <td>2</td>\n",
       "      <td>5</td>\n",
       "      <td>0.428571</td>\n",
       "      <td>0</td>\n",
       "      <td>0</td>\n",
       "      <td>exchange best ignored pale reflection gibson s...</td>\n",
       "    </tr>\n",
       "    <tr>\n",
       "      <th>129</th>\n",
       "      <td>A3A0KPQ1458501</td>\n",
       "      <td>B000HAOVC6</td>\n",
       "      <td>5</td>\n",
       "      <td>10</td>\n",
       "      <td>1.000000</td>\n",
       "      <td>1</td>\n",
       "      <td>0</td>\n",
       "      <td>excellent optics macro range good manual contr...</td>\n",
       "    </tr>\n",
       "  </tbody>\n",
       "</table>\n",
       "</div>"
      ],
      "text/plain": [
       "        reviewer_id        asin  overall  category     score  good  bad  \\\n",
       "100   AO7M9071TCL8U  B00CCILYDA        3        10  0.272727     0    0   \n",
       "101  A1ZQR3EQ7K3LKJ  B005UBNKZG        1        10  0.136364     0    1   \n",
       "102  A2CR57GAJKNWVV   743452402        4         5  0.583333     0    0   \n",
       "103  A3711ET9XQ8BKP  1433506254        1         5  0.195652     0    1   \n",
       "104   AZ39SOZT3NZQU   891077669        1         5  0.122807     0    1   \n",
       "105  A3JBYOHGGXY4N2  B002HEWA2I        5        10  0.840000     1    0   \n",
       "106  A1EYJKNRSGZ4OK  B0007M3PKS        2        10  0.538462     0    0   \n",
       "107  A2LH791QCM1W6J   199828075        3         5  0.777778     0    0   \n",
       "108  A3BAK6H3YS5SC6   981276717        5         5  0.295238     0    0   \n",
       "109   AI2X3LOSONWNS  091103823X        1         5  0.344828     0    0   \n",
       "110  A264QUB4HB6FQJ  1400113245        2         5  0.172185     0    1   \n",
       "111  A3F64PK0D3MLRR  B000068O3T        5        10  0.909091     1    0   \n",
       "112   A95HC39E1TROS   446613827        1         5  0.384615     0    0   \n",
       "113  A170IF5UYL8FX9    60524448        2         5  0.558824     0    0   \n",
       "114  A3EI32YH1R21Z7   983650322        3         5  0.111111     0    1   \n",
       "115   APSBN75ZYUZ9P    71401946        3         5  0.764706     0    0   \n",
       "116  A26KHZE0HTS057   316001929        3         5  0.548387     0    0   \n",
       "117   ABN8OZHQ9SI8P  B000F44NU4        5        10  0.200000     0    1   \n",
       "118  A1LVZOK9F7K4CN   671703765        2         5  0.400000     0    0   \n",
       "119  A272VAWTTTCKLA  B006ORXY6K        1        10  0.581395     0    0   \n",
       "120  A19N1167A3503H   310293685        2         5  0.275862     0    0   \n",
       "121  A1SXR6C5WIFFWM   449909336        1         5  0.337079     0    0   \n",
       "122  A3IMK08UX0I46A  B003GDBFWK        1        10  0.681818     0    0   \n",
       "123  A2SBLF1MTB4740    60675365        3         5  0.550000     0    0   \n",
       "124   AXDT0CY20S164  B0015YRMXI        5        10  0.937931     1    0   \n",
       "125  A2I32IXSFQ8NV3  B00009R6WY        4        10  0.765432     0    0   \n",
       "126   A7ME2T0LH83J5   756402190        2         5  0.200000     0    1   \n",
       "127  A13WK0568LZNL0    60763957        5         5  0.714286     0    0   \n",
       "128   AKT8TGIT6VVZ5   385537654        2         5  0.428571     0    0   \n",
       "129  A3A0KPQ1458501  B000HAOVC6        5        10  1.000000     1    0   \n",
       "\n",
       "                                           review_text  \n",
       "100  question product pause vhs tape playing switch...  \n",
       "101  needs bulldozer cpus need bulldozer need run b...  \n",
       "102  good zelazny feel oberon soldier nothing fight...  \n",
       "103  christ like mess book makes disturbingly clear...  \n",
       "104  mental illness book scary putting science soul...  \n",
       "105  great portable inexpensive camera camera great...  \n",
       "106  worth extra money well got model test returnin...  \n",
       "107  ignorance bliss saw short book display table b...  \n",
       "108  challenging compelling book caused polarized m...  \n",
       "109  another holocaust deniers polemic putative his...  \n",
       "110  juvenile sophism read unaware systemic corrupt...  \n",
       "111  great adapter adapter gets job done cause loss...  \n",
       "112  disappointing disappointed love welfonder book...  \n",
       "113  another diet book taking armour thyroid past y...  \n",
       "114  revealing eden big thanks netgalley sand dolla...  \n",
       "115  could wrong opinion recommended book psycholog...  \n",
       "116  watch hbo series rome fun miss much pick book ...  \n",
       "117  music sound denon avr hear vast differences tw...  \n",
       "118  operation success philip roth taste acquired y...  \n",
       "119  beware ipad new ipad compatible case ipad love...  \n",
       "120  annoying book ever read story sweet touching f...  \n",
       "121  trusted picked book read first pages getting p...  \n",
       "122  base unstable got version monitor exact base u...  \n",
       "123  christianity changing even agree spong conclus...  \n",
       "124  works great splits hdmi dvi flawlessly receive...  \n",
       "125  good superior zoom recently tried step mainsta...  \n",
       "126  copycat book rip obvious everybody knows way a...  \n",
       "127  hardy clarke deserve money hey folks let face ...  \n",
       "128  exchange best ignored pale reflection gibson s...  \n",
       "129  excellent optics macro range good manual contr...  "
      ]
     },
     "execution_count": 48,
     "metadata": {},
     "output_type": "execute_result"
    }
   ],
   "source": [
    "df_real_test = df[100:130]\n",
    "df_real_test"
   ]
  },
  {
   "cell_type": "code",
   "execution_count": 49,
   "metadata": {},
   "outputs": [
    {
     "name": "stdout",
     "output_type": "stream",
     "text": [
      "Featurizing training set.\n",
      "Shape: (30, 300)\n"
     ]
    }
   ],
   "source": [
    "print('Featurizing training set.')\n",
    "tfidf_real_test = tfidf_featurizer.transform(df_real_test)\n",
    "print('Shape:', tfidf_real_test.shape)"
   ]
  },
  {
   "cell_type": "code",
   "execution_count": 52,
   "metadata": {
    "collapsed": true
   },
   "outputs": [],
   "source": [
    "result = model.predict_on_batch(tfidf_real_test)"
   ]
  },
  {
   "cell_type": "code",
   "execution_count": 53,
   "metadata": {},
   "outputs": [
    {
     "name": "stdout",
     "output_type": "stream",
     "text": [
      "++ Review:   question product pause vhs tape playing switch dvd fast forward portion want recorded click vhs button release continue recording thing dvd vhs question let post characters recent version device bought walmart store near house online order still new sucks like reviews question old combo able years using started acting time able record anything check others reviews way recorder trashed viewed photos funai recorded online besides amazon com looking today walmart shopped netgear wifi range extender exactly one sold neighbor since vcr dvd way recorder machine going local walmart store instead waiting shipping online retarded machines question trouble recording shows time warner cable copy right crap since funai made maganvox give minus\n",
      "++ Predict:  [ 0.34392363] \n",
      "\n",
      "++ Review:   needs bulldozer cpus need bulldozer need run bulldozer second new cpus junk unstable even normal levels maybe next version better make cores work time\n",
      "++ Predict:  [ 0.03859885] \n",
      "\n",
      "++ Review:   good zelazny feel oberon soldier nothing fighting losing doomed war least long lost uncle appears tell needed elsewhere oberon finds part large disputatious family princes chaos capable walking shadows yet oberon lacks internal pattern allows shadow walking least pattern different different allow use magics available others bad entire family attack without major help destroyed dawn amber set late author roger zelazny amber universe days creation amber shadow reflections surround author john gregory bethancourt good job conveying feel zelazny created amber novels oberon family disfunctional constantly bickering amongst powerful corwin family first zelazny novel series bethancourt writing highly approachable making dawn quick read would preferred however story occur large extent dawn sets stage future activities introducing actors developing idea oberon unique pattern fans amber series like enjoy detail even likely wish actually happened novel\n",
      "++ Predict:  [ 0.04949094] \n",
      "\n",
      "++ Review:   christ like mess book makes disturbingly clear mark driscoll may possible least christ like christian america today one gets impression never read new testament knows nothing actual teachings christ wholly old testament christianity\n",
      "++ Predict:  [ 0.01730272] \n",
      "\n",
      "++ Review:   mental illness book scary putting science soul together moronic embarrassing one single person ever seen soul one never science requires observation people explain behavior invent soul science superstition concept soul ancient times science people thought thoughts came heart thoughts originate brain know exist evolutionary process natural selection brain functions contingncies reinforcemnt infinitely complicated based scientific observation data driven analysis made archaic superstition free brain supernatural everything natural science correct done data driven analysis possible way understand human behavior manipulate produce healthy behavior superstition espoused mentally ill morons write kinds books reinforce ignorance cancer responsible maladaptive unhealthy behavior lead extinction books like scary beware superstitious stupidity place science using false label science beware\n",
      "++ Predict:  [ 0.00068535] \n",
      "\n",
      "++ Review:   great portable inexpensive camera camera great occasions definitely best terms picture quality want get spend lot money great every day use camera pros light weight inexpensive good looking zoom without protruding lensecons best image quality still good occasions auto iso every day user would touch adjustments anyways\n",
      "++ Predict:  [ 0.90404469] \n",
      "\n",
      "++ Review:   worth extra money well got model test returning tomorrow find different refurbed discontinued got ultra cheap sony outlet picture quality opinion exactly handling options optical everything camcorder reeked overpriced admit bought one mainly analog digital passthru thinking worth extra cost half options still pic memory stick etc things use honestly feel overpriced camcorder tested panasonic cheaper well need options better buy get panasonic optical analog digital passthru going stick old sony cam work worth look really want sony\n",
      "++ Predict:  [ 0.50647372] \n",
      "\n",
      "++ Review:   ignorance bliss saw short book display table bookstore looked like would nice examination scientific work non scientist nevertheless interested science way organizing discovering knowledge core part college university education book way though entirely satisfying book stems course firestein neurobiologist teaches columbia university idea appealing important scientist driven know know gaps knowledge questions unknown beyond edge knowledge provide juice scientist want get scientists talking ask know working latest data produced great book deep hoped might firestein central point well worth remembering book short truth firestein could made point even fewer words getting case studies could dropped little comments side mouth guess intended bring bit levity serious topic mostly topic sometimes annoying easily expendable quibble hoping careful nuanced probing examination ignorance importance quest knowledge perhaps looking something bit epistemological depth decide kind book firestein anyone else write certainly regret reading book worth spending hours reminder lot know world would far less interesting case\n",
      "++ Predict:  [ 0.03267958] \n",
      "\n",
      "++ Review:   challenging compelling book caused polarized mix opinions everyone ever thought subject absolutely buy read way form unbiased uninfluenced opinion\n",
      "++ Predict:  [ 0.00346821] \n",
      "\n",
      "++ Review:   another holocaust deniers polemic putative history man lacking qualification historian copy picked dime local thrift store states degree engineering book butz proves holocaust happen mean feat considering annoying number eyewitnesses sides aver without holocaust one almost loss explain near disappearance european jewry\n",
      "++ Predict:  [ 0.00968998] \n",
      "\n",
      "++ Review:   juvenile sophism read unaware systemic corruption received book request review stomach anything fast skim unaware people favors life reading book may expose reality perhaps inspire help neighbor every instead growling across fence otherwise argument book ignores possible confounding explanations evidence winds way towards conclusion president party evil destroy life yawn plan parroting data arguments within crowd smart people prepared others believe idiot plan calling democrats corrupt evidence book republican pot meet kettle black plan attacking parties support practices might help little sullying reputation everyone involved business politics reading entertainment book entertaining rubbing knuckles across cheese grater two stars sophistic style reads fairly easy long ignore content insult intelligence\n",
      "++ Predict:  [ 0.00821304] \n",
      "\n",
      "++ Review:   great adapter adapter gets job done cause loss sound quality durable got item plug headphones amplifier jack back lasted ever since\n",
      "++ Predict:  [ 0.1677984] \n",
      "\n",
      "++ Review:   disappointing disappointed love welfonder books eagerly waiting one found story simplistic engaging addition parts storyline could prove entertaining ended drama say boring\n",
      "++ Predict:  [ 0.00723204] \n",
      "\n",
      "++ Review:   another diet book taking armour thyroid past year happy results also eating low carb protein power south beach style years book told absolutely nothing already know diet mish mash information mis information popular diets currently circulating disappointment bother book even used worth money\n",
      "++ Predict:  [ 0.01725971] \n",
      "\n",
      "++ Review:   revealing eden big thanks netgalley sand dollar press victoria foyt allowing chance read book revealing eden interesting premise foyt created different source casting society captivated felt sad eden outcast fact pearl light skinned something clearly control age skin color hung like time bomb find mate age could spell death foyt amazing job creating wide array characters eden father man dived head first work death wife practically forgetting daughter bramford richest likely desirable coal clearly someone stirred eden eden character merely insecure determined girl needed get trapped jungle cut life order truly find eden forced embrace inner beast inside order find really learn people always seem book broke bounds color casting proving judge man color social graces even species would give book stars sometimes felt little lost technological jargon felt meddle bit really liked book checking part book comes read book yet really check paid review solely opinion\n",
      "++ Predict:  [ 0.01159148] \n",
      "\n",
      "++ Review:   could wrong opinion recommended book psychologist specializes marital relationships quickly went closest barnes noble paid way book began reading overall concepts book genuinely simplistic guess blinded emotions crucial conversations forget basics book job reminding however could help notice rambling skipping back forth non linear style writing book basically sounds like anxious management consultant high starbucks uppers jumping skipping seems semi logical string somewhat relevant topics far steven covey wow persuade thousands management people pay esentially personal paper planner calendar deserve dollars coming could wrong opinion\n",
      "++ Predict:  [ 0.00722432] \n",
      "\n",
      "++ Review:   watch hbo series rome fun miss much pick book pulitzer prize winning author certain amount expectation reader right feel subject matter titled cleopatra life expect years hundreds books cleopatra find new wonderful things ancient egypt queen nile lead expectations interesting titillating discoveries finger tips maybe book fails many levels fails excite fails engage fails make reader yearn underwhelming work lives none expectations might well researched thoughtfully put together nothing work speaks fact another book cleopatra backhanded writing first little specifics cleopatra life revealed first pages mainly pulled works caesar generalizations describe egyptian roman life first century second pages mostly mark antony cleopatra thrown author goes great pains explain much previously written cleopatra simply made nothing new offered decry already written bother write book author done research could uncover anything new would let research waste one reader get put top author goes great lengths put writing others written may may true back forth method reader often lost author like use mixed chronological metaphors wrote extravagance detrimental body mind sounding like one much mark twain resisting siren call europe heck used author several times manage move reader time story put another era losing momentum completely breaking engagement reader first century unfortunately part book cleopatra rome last pages however shares billing antony octavian climatic battle equally unfortunately book reads like encyclopedia textbook additionally overlaid guesswork paraphrasing know cleopatra guess used writing extremely tedious laborious read certainly factual pieces information volume quite simply little information cleopatra much last chapter related deaths antony cleopatra written fashion debates histories written plutarch dio makes truly confusing lengthy mostly lecture like finale reader appreciate method story telling interested time era might find book worth reading beware focus cleopatra relationship rome biography cleopatra realize one goes could history caesar antony octavian rather cleopatra cannot recommend book anyone researcher looking confirmation sources\n",
      "++ Predict:  [ 0.09488131] \n",
      "\n",
      "++ Review:   music sound denon avr hear vast differences two values interpreted given user two ears hear none equal music reproduction results given technology diverse long winded often pedantic interpretations often nothing less blow hard self serving subjective musings points minutia highly recommend denon avr musically speaking\n",
      "++ Predict:  [ 0.12420737] \n",
      "\n",
      "++ Review:   operation success philip roth taste acquired yet lauded critics including harold bloom happens friend perhaps greatest living american writer novel read portnoy complaint even finish found hopelessly dated pedantic repetitive like operation shylock portnoy complaint guess although say really enjoyed either however least things happen novel gimmick book confession story supposedly true events happened philip roth story concerns emergence fake philip roth traveling around israel promoting cause diasporism relocation israel jews back europe real roth travels jerusalem confront impostor read book difficult tell whether real roth diasporism lot anti zionist rhetoric book much found distasteful real roth really anti zionist hard say frequently asserts foolish diasporism european community would welcome jews back open arms somewhere one raymond chandler novels philip marlowe mocks hemmingway man thinks saying thing makes profound well thing said philip roth lot things style like pedantic always axe grind instead grinds readers ground allows characters speak sometimes pages time without much starting new paragraph annoying trait however love odd true keep saying great people believe characters lavishes praise onto books also apparently catnip ladies novel non fiction course ever read another philip roth novel probably many critics telling wrong allow possibility looking forward experience\n",
      "++ Predict:  [ 0.02032564] \n",
      "\n",
      "++ Review:   beware ipad new ipad compatible case ipad loved worked perfectly looks protection wake well bought case advertised ipad compatible amazon ipad fits snugly case wake feature flaky best due ipad bezel magnets slightly different alignment ipad leads haphazard wake operations tried get crazy digital corp supply pre paid label return misrepresented product refused company policy matter reason return beware company thinking buy products especially product ipad gave fair warning mainly based poor customer service giving case crazy digital corp poor rating\n",
      "++ Predict:  [ 0.77485758] \n",
      "\n",
      "++ Review:   annoying book ever read story sweet touching fascinating author goes extremely overboard dramatic metaphors similes far began extremely annoyed enjoyed story made suffer irritating writing style get father gifted speaker author would think would given constructive criticism regarding parts grate nerves prologue epilogue written father bought book hearing talk focus family radio broadcast talked like normal person understand seemed desperate drama writing book would much enjoyable written normally speaks worth reading easily annoyed\n",
      "++ Predict:  [ 0.00767605] \n",
      "\n",
      "++ Review:   trusted picked book read first pages getting point halberstam mentions perjury conviction alger hiss herbert packer wrote inex communist witnesses four studies fact finding trial proved hiss guilt thoroughly legal proceeding prove anything allen weinstein inperjury hiss chambers case found even evidence hiss guilt historian pretend halberstam doubt hiss guilt give evidence tells writing propoganda rather history adds gratuitous gay bashing whittaker chambers bisexual got hiss guilt innocence drop book disgust mileage may vary read book want remember author liar use reliable source check sources anything says including sky blue honest\n",
      "++ Predict:  [ 0.00447955] \n",
      "\n",
      "++ Review:   base unstable got version monitor exact base unstable tipped shattering screen quite fragile unlike lcd computer screens checked several models store base unstable compared brands either wall mount keep somewhere get bumped since many people use base stand comes thought important let people know disappointed design\n",
      "++ Predict:  [ 0.05311128] \n",
      "\n",
      "++ Review:   christianity changing even agree spong conclusions reached trip heresy madness critical look christianity shows changing matters whether evangelical reactionary liberal mind gay man leading liturgy conservatives might read book shock horror perhaps smug self certainty episcopal church destroying within trip place like prestonwood baptist church plano texas shows change affects everyone evangelical denominations growing popular evangelical churches resemble rock concerts mixed bunch uncritical bible pounding self congratulation even leaves bad taste mouth explore mormonism charismatic churches word heresy even begin describe going like spong right christianity must change die rock concert think way remain christian way affirms humanity reworks liturgy something life affirming beautiful spong ultimately fails goes far book remains useful sooner later christians much examine faith critically become cynical descend self rightenousness christian rock\n",
      "++ Predict:  [ 0.00254576] \n",
      "\n",
      "++ Review:   works great splits hdmi dvi flawlessly received unit using split single hdmi output cable box two one newer vizio lcd older mitsubishi rear projection dvi port connection visio via hdmi cable connection mitsubishi via hdmi dvi adapter cable contrary one reviews one needs time unit work great job loss picture sound quality even longer hdmi cable hdmi dvi adapter cable\n",
      "++ Predict:  [ 0.91213554] \n",
      "\n",
      "++ Review:   good superior zoom recently tried step mainstay zoom found primes superior zoom especially compared found improvement zoom excellent lenses detail contrast noticeably lower especially edges use full frame noticeable less full frame digital body problems disappeared higher image comparable zoom better even magnification may useful lens anyone needs shoot low light without flash also lighter zoom would easier haul around since prices zoom replaced buyer consider features would useful choosing\n",
      "++ Predict:  [ 0.9283455] \n",
      "\n",
      "++ Review:   copycat book rip obvious everybody knows way around fantasy genre thing know whether williams copying dragonbone series martin song ice fire probably explain raving reviews impression people find way better quality fantasy writing particular williams novel must admit writing something williams well even horrible sub par war flowers quite corectly written might given stars apalling lack originality shameless copying deserves well known better picked dragonbone chair known would disappointment high probability similar case stay away thing use money erikson martin original work instead\n",
      "++ Predict:  [ 0.07186437] \n",
      "\n",
      "++ Review:   hardy clarke deserve money hey folks let face lot one star reviews book people read bothered leave one star review farenheit seen would intellectually dishonest notice seem bother moore fans quite role model regard let lay line michael moore truly believes george bush invaded afghanistan lay oil pipeline bed bin laden family etc etc idiot dangerously paranoid well believe give millionaire quot man people quot money well loss bought book devoured every word wish longer money well spent\n",
      "++ Predict:  [ 0.00644531] \n",
      "\n",
      "++ Review:   exchange best ignored pale reflection gibson shteyngart think speculative fiction written well degrees notable mfa writing programs secured grants write notable literary retreats like yaddo macdowell colony lack familiarity speculative fiction fellow brunonian alena graedon word exchange hailed great instant literary classic brilliant exploration power words meanings lack thereof transform lives people living sometime distant future alternate history new york city recognizable yet different however yet another literary debut writer unfamiliar literary conventions speculative fiction ignorant superb prior work notable literary stylists storytellers ursula guin left hand darkness dispossessed samuel delany dhalgren nova william gibson neuromancer count zero idoru zero history john shirley song called youth michael swanwick stations tide jack faust dancing bears neal stephenson diamond age anathem china mieville city city kraken embassytown catherynne valente palimpsest name many novels cited offer far profound literary explorations personal relationships communication meaning language read word exchange even may dismissed literary mainstream fiction writers examples popular genre fiction unaware superior literary craft demonstrated writers cited example neal stephenson china mieville excelled crafting superior novels rich philosophical content contain engrossing vividly realized plots settings remote distant world arbre anathem close contemporary london cloaked dark fantastical realm kraken graedon fictional depiction alternate history near future new york city lacks detailed plotting poetic lyricism encountered fictional visions new york city conjured memorably mark helprin winter tale recently published sunlight shadow latter mesmerizing quite captivating tale marking long awaited return one world greatest novelists storytellers writing english language alternate history near future new york city lacks compelling realism contemporary brooklyn depicted lev grossman magician fantasy novels near future new york city seem genuinely inhabitable michael chabon federal district sitka alternate history alaskan jewish refuge hugo award winning novel yiddish policeman union plausible matt ruff post alternate history baghdad mirage much credit writers devoted ample time crafting compellingly realistic settings exceptional alternate history speculative fiction novels anana johnson protagonist word exchange searches missing father doug editor north american dictionary english language civilized world falls prey series word viruses leave victims varying degrees aphasia culminating death susceptible misspelling mispronouncing words someone worked hiv aids epidemiological research regard modes transmission viruses sufficiently implausible viewed credible speculative fiction lives world information exchanged via machines called memes stored online word exchanges virtually replaced printed word much credit friend gary shteyngart far inventive conceiving similar device apparat great post cyberpunk mainstream literary science fiction novel super sad true love story borrowing term cultural exchange coined noted british evolutionary biologist writer richard dawkins landmark book selfish gene great speculative fiction whether written devoted lives genre like guin gibson mieville stephenson swanwick made occasional forays like chabon shteyngart notable using literary conventions genre making profound often riveting emotionally compelling observations human condition observations disappear quickly within graedon noteworthy prose since crafted work fiction destined win ample praise familiar mainstream literary fiction publication trapped set plot setting conventions fantasy writer ellen kushner dubbed domestic reality fiction fine prose misses magical lyricism read likes catherynne valente palimpsest fellow brunonian madeline miller song achilles interested reading great speculative fiction likes notable mainstream literary fiction writers choices quite include chabon shteyngart also iain banks victor lavalle jonathan lethem rick moody otherwise would recommend ignoring word exchange reading instead memorable works speculative fiction writers deserve ample recognition literary mainstream fiction exceptional quality craft delany gibson guin others cited exactly thirty years since william gibson great debut novel neuromancer hailed lev grossman important novel time published originally paperback first edition stark comparison word exchange merely pale reflection shteyngart super sad true love story editorial note writer someone fellow brunonian brown university alumnus would given one starred review opted give writer benefit doubt however someone worked hiv aids epidemiological research past former evolutionary biologist descriptions potentially lethal word viruses far less realistic realistic magic described lev grossman magician novels plain english utter fantasy speculative fiction viruses transmitted others placing phone calls transmitted direct physical contact infected persons indirectly via coughing sneezing graedon assertion viruses transmitted calling strangers pseudoscientific nonsense kind read heard creationists whether notorious young earth creationists like ken ham answers genesis creation museum latter venue recent debate bill nye science guy old earth creationists intelligent design creationists editorial note annie michelle speculative fiction given ample critical respect mainstream literary fiction community longstanding bias bordering hostility towards community would expect someone prior experience crime fiction write crime fiction novel hailed mainstream literary fiction community superb example acknowledgements section end book graedon admits experience reading speculative fiction especially cyberpunk post cyberpunk fiction written likes pat cadigan william gibson john shirley neal stephenson bruce sterling among others unfamiliar work could praise graedon novel fiendishly clever dystopian novel digital age word exchange fresh stylized decidedly original debut dangers technology power printed word imho plus matt ruff sewer gas electric public works trilogy mirage gary shteyngart super sad true love story written work almost virtually identical graedon far memorable regards plotting quality prose editorial note instead reading novel would recommend instead reading david quammen sspillover animal infections next human pandemic describes accurately origin spread viruses quammen one foremost science journalists first one honored society study evolution recipient stephen jay gould prize given someone greatly advances public understanding science pertains evolutionary biology including epidemiology graedon read quammen book might realized ridiculous conception word viruses editorial note pigpen raises interesting point seems focused attention recent prior editorial note pertaining david quammen book without taking heed earlier comments graedon written fantasy novel made much issue conception word viruses however written near future alternate history post cyberpunk speculative fiction novel setting adhere pre existing scientific medical knowledge especially regards origins transmission viruses done rendered fictionally concept contribute towards greater public understanding science regards epidemiology viruses even fiction writer better job honoring reader intelligence introducing concept ridiculous word virus\n",
      "++ Predict:  [ 0.10097442] \n",
      "\n",
      "++ Review:   excellent optics macro range good manual controls let preface saying come old school photography use good quality film slr cameras years always hated digitals cumbersome controls lack good manual control camera yes even digital slrs camera quite improvement point shooter take box throw batteries card click away know camera good manual controls want focus need take close shots small models insects flowers etc camera want something tiny slim snapping pics vacation camera superb job need therefore bulkier probably want shutter aperture priority latter important manually stop lens anywhere wish would stop way like lot ask digicam macro mode really truly focus things away lens focus still crisp impressive put thing tripod put good light subject turn flash use built timer avoid shaking camera get magazine publishable photos lie white balance superb take shots flourescent incandescent tungsten photofloods color rendition terrific even use auto white balance manually calibrate really want also several preset white balance settings flourescent incandescent tungsten others runs batteries shoot long time batteries dead definitely invest nimh charger uses standard cards like morons sony insist using proprietary memory card cameras best thing real controls need used using real camera easily accessible right top level buttons exposure compenstation macro mode flash stop also full manual mode set stop exposure shutter speed focus completely manually fooled dslrs mid range hybrid models like sort things like dslr frankly agony use spend dslr expect punish find change stop true optical zoom pretty darn good range small cam well door usb hooks kind cheap feeling know long time whether hold video shoots smooth crisp non grainy frames per second normal room light nice lcd large bright clear flips side camera like sort thing know people complained hooking computer got mac bother installing anything comes camera plug camera usb port use mac built camera application pull photos neatly folder even delete camera want another nice plus needs silly bloated custom applications come cameras btw computer software engineer trade first tried also nice cam exchanged store manual exposure controls needed extra price enormous step quality controls well worth\n",
      "++ Predict:  [ 0.93539435] \n",
      "\n"
     ]
    }
   ],
   "source": [
    "for index, value in enumerate(df_real_test['review_text']):\n",
    "    print('++ Review:  ',value)\n",
    "    print('++ Predict: ', result[index], '\\n')"
   ]
  },
  {
   "cell_type": "code",
   "execution_count": 71,
   "metadata": {},
   "outputs": [
    {
     "data": {
      "text/html": [
       "<div>\n",
       "<style>\n",
       "    .dataframe thead tr:only-child th {\n",
       "        text-align: right;\n",
       "    }\n",
       "\n",
       "    .dataframe thead th {\n",
       "        text-align: left;\n",
       "    }\n",
       "\n",
       "    .dataframe tbody tr th {\n",
       "        vertical-align: top;\n",
       "    }\n",
       "</style>\n",
       "<table border=\"1\" class=\"dataframe\">\n",
       "  <thead>\n",
       "    <tr style=\"text-align: right;\">\n",
       "      <th></th>\n",
       "      <th>overall</th>\n",
       "      <th>reviewText</th>\n",
       "      <th>reviewerID</th>\n",
       "      <th>unixReviewTime</th>\n",
       "      <th>Helpfull</th>\n",
       "      <th>Unhelpfull</th>\n",
       "      <th>review_text</th>\n",
       "    </tr>\n",
       "    <tr>\n",
       "      <th>asin</th>\n",
       "      <th></th>\n",
       "      <th></th>\n",
       "      <th></th>\n",
       "      <th></th>\n",
       "      <th></th>\n",
       "      <th></th>\n",
       "      <th></th>\n",
       "    </tr>\n",
       "  </thead>\n",
       "  <tbody>\n",
       "    <tr>\n",
       "      <th>B003UYU16G</th>\n",
       "      <td>5</td>\n",
       "      <td>it is and does exactly what the description sa...</td>\n",
       "      <td>A00000262KYZUE4J55XGL</td>\n",
       "      <td>1353456000</td>\n",
       "      <td>0</td>\n",
       "      <td>0</td>\n",
       "      <td>it is and does exactly what the description sa...</td>\n",
       "    </tr>\n",
       "    <tr>\n",
       "      <th>B005FYPK9C</th>\n",
       "      <td>5</td>\n",
       "      <td>i was sketchy at first about these but once yo...</td>\n",
       "      <td>A000008615DZQRRI946FO</td>\n",
       "      <td>1357603200</td>\n",
       "      <td>0</td>\n",
       "      <td>0</td>\n",
       "      <td>i was sketchy at first about these but once yo...</td>\n",
       "    </tr>\n",
       "    <tr>\n",
       "      <th>B000VEBG9Y</th>\n",
       "      <td>3</td>\n",
       "      <td>very mobile product. efficient. easy to use; h...</td>\n",
       "      <td>A00000922W28P2OCH6JSE</td>\n",
       "      <td>1395619200</td>\n",
       "      <td>0</td>\n",
       "      <td>0</td>\n",
       "      <td>very mobile product. efficient. easy to use; h...</td>\n",
       "    </tr>\n",
       "    <tr>\n",
       "      <th>B001EJMS6K</th>\n",
       "      <td>4</td>\n",
       "      <td>easy to use a mobile. if you're taller than 4f...</td>\n",
       "      <td>A00000922W28P2OCH6JSE</td>\n",
       "      <td>1395619200</td>\n",
       "      <td>0</td>\n",
       "      <td>0</td>\n",
       "      <td>easy to use a mobile. if you're taller than 4f...</td>\n",
       "    </tr>\n",
       "    <tr>\n",
       "      <th>B003XJCNVO</th>\n",
       "      <td>4</td>\n",
       "      <td>love this feeder. heavy duty &amp; capacity. best ...</td>\n",
       "      <td>A00000922W28P2OCH6JSE</td>\n",
       "      <td>1395619200</td>\n",
       "      <td>0</td>\n",
       "      <td>0</td>\n",
       "      <td>love this feeder. heavy duty &amp; capacity. best ...</td>\n",
       "    </tr>\n",
       "  </tbody>\n",
       "</table>\n",
       "</div>"
      ],
      "text/plain": [
       "            overall                                         reviewText  \\\n",
       "asin                                                                     \n",
       "B003UYU16G        5  it is and does exactly what the description sa...   \n",
       "B005FYPK9C        5  i was sketchy at first about these but once yo...   \n",
       "B000VEBG9Y        3  very mobile product. efficient. easy to use; h...   \n",
       "B001EJMS6K        4  easy to use a mobile. if you're taller than 4f...   \n",
       "B003XJCNVO        4  love this feeder. heavy duty & capacity. best ...   \n",
       "\n",
       "                       reviewerID  unixReviewTime  Helpfull  Unhelpfull  \\\n",
       "asin                                                                      \n",
       "B003UYU16G  A00000262KYZUE4J55XGL      1353456000         0           0   \n",
       "B005FYPK9C  A000008615DZQRRI946FO      1357603200         0           0   \n",
       "B000VEBG9Y  A00000922W28P2OCH6JSE      1395619200         0           0   \n",
       "B001EJMS6K  A00000922W28P2OCH6JSE      1395619200         0           0   \n",
       "B003XJCNVO  A00000922W28P2OCH6JSE      1395619200         0           0   \n",
       "\n",
       "                                                  review_text  \n",
       "asin                                                           \n",
       "B003UYU16G  it is and does exactly what the description sa...  \n",
       "B005FYPK9C  i was sketchy at first about these but once yo...  \n",
       "B000VEBG9Y  very mobile product. efficient. easy to use; h...  \n",
       "B001EJMS6K  easy to use a mobile. if you're taller than 4f...  \n",
       "B003XJCNVO  love this feeder. heavy duty & capacity. best ...  "
      ]
     },
     "execution_count": 71,
     "metadata": {},
     "output_type": "execute_result"
    }
   ],
   "source": [
    "# Process data of Big file\n",
    "Big_data = pd.read_csv('data/Big_data.csv', sep=',', index_col=0)\n",
    "Big_data['review_text'] = Big_data['reviewText']\n",
    "Big_data.head()"
   ]
  },
  {
   "cell_type": "code",
   "execution_count": 72,
   "metadata": {
    "collapsed": true
   },
   "outputs": [],
   "source": [
    "tfidf_big_data = tfidf_featurizer.transform(Big_data)\n",
    "Big_data['good_review'] = model.predict_on_batch(tfidf_big_data)"
   ]
  },
  {
   "cell_type": "code",
   "execution_count": 73,
   "metadata": {
    "collapsed": true
   },
   "outputs": [],
   "source": [
    "Big_data.to_csv('new_data.csv')"
   ]
  },
  {
   "cell_type": "markdown",
   "metadata": {},
   "source": [
    "## Use k-Fold Cross Validation"
   ]
  },
  {
   "cell_type": "code",
   "execution_count": 65,
   "metadata": {
    "collapsed": true
   },
   "outputs": [],
   "source": [
    "X = tfidf_featurizer.transform(df)\n",
    "Y = np.array(df[target_class])"
   ]
  },
  {
   "cell_type": "code",
   "execution_count": null,
   "metadata": {},
   "outputs": [
    {
     "name": "stdout",
     "output_type": "stream",
     "text": [
      "acc: 88.24%\n",
      "88.24% (+/- 0.00%)\n"
     ]
    }
   ],
   "source": [
    "from sklearn.model_selection import StratifiedKFold\n",
    "import numpy as np\n",
    "kfold = StratifiedKFold(n_splits=10, shuffle=True, random_state=7)\n",
    "cvscores = []\n",
    "for train, test in kfold.split(X, Y):\n",
    "    # create model\n",
    "    model = Sequential()\n",
    "    model.add(Dense(32, input_dim=300, activation='relu'))\n",
    "    model.add(Dropout(0.25))\n",
    "    model.add(Dense(12, activation='relu'))\n",
    "    model.add(Dense(1, activation='sigmoid'))\n",
    "    # Compile model\n",
    "    model.compile(loss='binary_crossentropy', optimizer='adam', metrics=['accuracy'])\n",
    "    # Fit the model\n",
    "    model.fit(X[train], Y[train], epochs=150, batch_size=10, verbose=0)\n",
    "    # evaluate the model\n",
    "    scores = model.evaluate(X[test], Y[test], verbose=0)\n",
    "    print(\"%s: %.2f%%\" % (model.metrics_names[1], scores[1]*100))\n",
    "    cvscores.append(scores[1] * 100)\n",
    "    print(\"%.2f%% (+/- %.2f%%)\" % (np.mean(cvscores), np.std(cvscores)))"
   ]
  },
  {
   "cell_type": "markdown",
   "metadata": {
    "collapsed": true
   },
   "source": [
    "# Tried to use recursive "
   ]
  },
  {
   "cell_type": "code",
   "execution_count": 60,
   "metadata": {
    "collapsed": true
   },
   "outputs": [],
   "source": [
    "df_train, df_test = split_train_test(df, 0.2)"
   ]
  },
  {
   "cell_type": "code",
   "execution_count": 66,
   "metadata": {
    "collapsed": true
   },
   "outputs": [],
   "source": [
    "#Train data\n",
    "matrix_train = tfidf_featurizer.transform(df_train)\n",
    "matrix_test = tfidf_featurizer.transform(df_test)\n",
    "#Label data\n",
    "target_class = 'good'\n",
    "labels_train = np.array(df_train[target_class])\n",
    "labels_test = np.array(df_test[target_class])"
   ]
  },
  {
   "cell_type": "code",
   "execution_count": null,
   "metadata": {
    "collapsed": true
   },
   "outputs": [],
   "source": [
    "import numpy as np\n",
    "from keras.utils import np_utils\n",
    "batch_size = 100\n",
    "epochs = 30\n",
    "\n",
    "model = Sequential()\n",
    "X_train = np.reshape(matrix_train, (matrix_train.shape[0], matrix_train.shape[1], 1))\n",
    "y_train = np_utils.to_categorical(labels_train)\n",
    "X_test = np.reshape(matrix_test, (matrix_test.shape[0], matrix_test.shape[1], 1))\n",
    "y_test = np_utils.to_categorical(labels_test)\n",
    "\n",
    "model = Sequential()\n",
    "model.add(LSTM(256, input_shape=(X.shape[1], X.shape[2])))\n",
    "model.add(Dropout(0.2))\n",
    "model.add(Dense(y.shape[1], activation='softmax'))\n",
    "#model.fit(X, y, epochs=20, batch_size=128, callbacks=callbacks_list)\n",
    "model.compile(loss='binary_crossentropy', optimizer='adam', metrics=['accuracy'])\n",
    "# Fit the model\n",
    "model.fit(X_train, y_train,\n",
    "          epochs=epochs,\n",
    "          batch_size=batch_size,\n",
    "          verbose=0,\n",
    "          validation_data=(X_test, y_test),\n",
    "          callbacks=[history])"
   ]
  },
  {
   "cell_type": "code",
   "execution_count": 74,
   "metadata": {
    "collapsed": true
   },
   "outputs": [],
   "source": [
    "# evaluate the model\n",
    "X_val = np.reshape(matrix_val, (matrix_val.shape[0], matrix_val.shape[1], 1))\n",
    "y_val = np_utils.to_categorical(labels_val)\n",
    "\n",
    "score = model.evaluate(X_val, y_val, verbose=0)"
   ]
  },
  {
   "cell_type": "code",
   "execution_count": 76,
   "metadata": {},
   "outputs": [
    {
     "name": "stdout",
     "output_type": "stream",
     "text": [
      "Validation loss: [0.6304680669096433, 0.66560163205617107]\n",
      "Validation accuracy: [0.6304680669096433, 0.66560163205617107]\n"
     ]
    }
   ],
   "source": [
    "#print(\"\\n%s: %.2f%%\" % (model.metrics_names, score*100))\n",
    "print('Validation loss:', score)\n",
    "print('Validation accuracy:', score)"
   ]
  },
  {
   "cell_type": "code",
   "execution_count": null,
   "metadata": {
    "collapsed": true
   },
   "outputs": [],
   "source": [
    "# serialize model to JSON\n",
    "model_json = model.to_json()\n",
    "with open(\"prepare_new_data\\model_rnn.json\", \"w\") as json_file:\n",
    "    json_file.write(model_json)\n",
    "# serialize weights to HDF5\n",
    "model.save_weights(\"prepare_new_data\\model_rnn.h5\")\n",
    "print(\"Saved model to disk\")"
   ]
  },
  {
   "cell_type": "code",
   "execution_count": null,
   "metadata": {
    "collapsed": true
   },
   "outputs": [],
   "source": [
    "class TestCallback(Callback):\n",
    "    def __init__(self, test_data):\n",
    "        self.test_data = test_data\n",
    "\n",
    "    def on_epoch_end(self, epoch, logs={}):\n",
    "        x, y = self.test_data\n",
    "        loss, acc = self.model.evaluate(x, y, verbose=0)\n",
    "        print('\\nTesting loss: {}, acc: {}\\n'.format(loss, acc))\n",
    "        \n",
    "model.fit(X_train, Y_train, validation_data=(X_val, Y_val), callbacks=[TestCallback((X_test, Y_test))])"
   ]
  },
  {
   "cell_type": "raw",
   "metadata": {},
   "source": [
    "## https://machinelearningmastery.com/text-generation-lstm-recurrent-neural-networks-python-keras/\n",
    "## https://buhrmann.github.io/tfidf-analysis.html\n",
    "## http://www.markhneedham.com/blog/2015/02/15/pythonscikit-learn-calculating-tfidf-on-how-i-met-your-mother-transcripts/"
   ]
  },
  {
   "cell_type": "code",
   "execution_count": 183,
   "metadata": {},
   "outputs": [
    {
     "name": "stdout",
     "output_type": "stream",
     "text": [
      "C:\\Users\\s4341237\\DeeepSense\\Data Library\n"
     ]
    }
   ],
   "source": [
    "cd C:\\Users\\s4341237\\DeeepSense\\Data Library"
   ]
  },
  {
   "cell_type": "code",
   "execution_count": 145,
   "metadata": {
    "scrolled": true
   },
   "outputs": [],
   "source": [
    "# Create data for Wei\n",
    "good = []\n",
    "wei_df = pd.DataFrame()\n",
    "counter = 0\n",
    "batchSize = 100\n",
    "\n",
    "for df in pd.read_csv('final_result.csv', chunksize=batchSize, iterator=True):\n",
    "    tfidf_real_test = tfidf_featurizer.transform(df)\n",
    "    good.append(model.predict_on_batch(tfidf_real_test))"
   ]
  },
  {
   "cell_type": "code",
   "execution_count": 184,
   "metadata": {},
   "outputs": [],
   "source": [
    "df_wei = pd.read_csv('final_result.csv')\n",
    "tfidf_real_test = tfidf_featurizer.transform(df_wei)"
   ]
  },
  {
   "cell_type": "code",
   "execution_count": 185,
   "metadata": {},
   "outputs": [],
   "source": [
    "df_wei['good'] = model.predict_on_batch(tfidf_real_test)"
   ]
  },
  {
   "cell_type": "code",
   "execution_count": 191,
   "metadata": {},
   "outputs": [],
   "source": [
    "df_wei.to_csv('data_wei.csv', sep=',')"
   ]
  },
  {
   "cell_type": "code",
   "execution_count": 189,
   "metadata": {},
   "outputs": [
    {
     "name": "stdout",
     "output_type": "stream",
     "text": [
      "229536/230251 [============================>.] - ETA: 0s"
     ]
    }
   ],
   "source": [
    "df_wei['good_class'] = model.predict_classes(tfidf_real_test)"
   ]
  },
  {
   "cell_type": "code",
   "execution_count": null,
   "metadata": {
    "collapsed": true
   },
   "outputs": [],
   "source": []
  }
 ],
 "metadata": {
  "kernelspec": {
   "display_name": "Python 3",
   "language": "python",
   "name": "python3"
  },
  "language_info": {
   "codemirror_mode": {
    "name": "ipython",
    "version": 3
   },
   "file_extension": ".py",
   "mimetype": "text/x-python",
   "name": "python",
   "nbconvert_exporter": "python",
   "pygments_lexer": "ipython3",
   "version": "3.5.4"
  }
 },
 "nbformat": 4,
 "nbformat_minor": 1
}
