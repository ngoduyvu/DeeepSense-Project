{
 "cells": [
  {
   "cell_type": "markdown",
   "metadata": {},
   "source": [
    "# Summary and Topic Modelling "
   ]
  },
  {
   "cell_type": "code",
   "execution_count": 1,
   "metadata": {
    "collapsed": true
   },
   "outputs": [],
   "source": [
    "from __future__ import division\n",
    "import string\n",
    "import math"
   ]
  },
  {
   "cell_type": "code",
   "execution_count": 83,
   "metadata": {},
   "outputs": [
    {
     "data": {
      "text/plain": [
       "<function __main__.<lambda>>"
      ]
     },
     "execution_count": 83,
     "metadata": {},
     "output_type": "execute_result"
    }
   ],
   "source": [
    "tokenize = lambda doc: doc.lower().split(\" \")\n",
    "tokenize"
   ]
  },
  {
   "cell_type": "code",
   "execution_count": 84,
   "metadata": {
    "collapsed": true
   },
   "outputs": [],
   "source": [
    "document_0 = \"China has a strong economy that is growing at a rapid pace. However politically it differs greatly from the US Economy.\"\n",
    "document_1 = \"At last, China seems serious about confronting an endemic problem: domestic violence and corruption.\"\n",
    "document_2 = \"Japan's prime minister, Shinzo Abe, is working towards healing the economic turmoil in his own country for his view on the future of his people.\"\n",
    "document_3 = \"Vladimir Putin is working hard to fix the economy in Russia as the Ruble has tumbled.\"\n",
    "document_4 = \"What's the future of Abenomics. We asked Shinzo Abe for his views\"\n",
    "document_5 = \"Obama has eased sanctions on Cuba while accelerating those against the Russian Economy, even as the Ruble's value falls almost daily.\"\n",
    "document_6 = \"Vladimir Putin is riding a horse while hunting deer. Vladimir Putin always seems so serious about things - even riding horses. Is he crazy?\""
   ]
  },
  {
   "cell_type": "code",
   "execution_count": 85,
   "metadata": {
    "collapsed": true
   },
   "outputs": [],
   "source": [
    "all_documents = [document_0, document_1, document_2, document_3, document_4, document_5, document_6]\n",
    "\n",
    "tokenized_documents = [tokenize(d) for d in all_documents] # tokenized docs\n",
    "all_tokens_set = set([item for sublist in tokenized_documents for item in sublist])"
   ]
  },
  {
   "cell_type": "code",
   "execution_count": 45,
   "metadata": {},
   "outputs": [
    {
     "data": {
      "text/plain": [
       "{'-',\n",
       " 'a',\n",
       " 'abe',\n",
       " 'abe,',\n",
       " 'abenomics.',\n",
       " 'about',\n",
       " 'accelerating',\n",
       " 'against',\n",
       " 'almost',\n",
       " 'always',\n",
       " 'an',\n",
       " 'and',\n",
       " 'as',\n",
       " 'asked',\n",
       " 'at',\n",
       " 'china',\n",
       " 'confronting',\n",
       " 'corruption.',\n",
       " 'country',\n",
       " 'crazy?',\n",
       " 'cuba',\n",
       " 'daily.',\n",
       " 'deer.',\n",
       " 'differs',\n",
       " 'domestic',\n",
       " 'eased',\n",
       " 'economic',\n",
       " 'economy',\n",
       " 'economy,',\n",
       " 'economy.',\n",
       " 'endemic',\n",
       " 'even',\n",
       " 'falls',\n",
       " 'fix',\n",
       " 'for',\n",
       " 'from',\n",
       " 'future',\n",
       " 'greatly',\n",
       " 'growing',\n",
       " 'hard',\n",
       " 'has',\n",
       " 'he',\n",
       " 'healing',\n",
       " 'his',\n",
       " 'horse',\n",
       " 'horses.',\n",
       " 'however',\n",
       " 'hunting',\n",
       " 'in',\n",
       " 'is',\n",
       " 'it',\n",
       " \"japan's\",\n",
       " 'last,',\n",
       " 'minister,',\n",
       " 'obama',\n",
       " 'of',\n",
       " 'on',\n",
       " 'own',\n",
       " 'pace.',\n",
       " 'people.',\n",
       " 'politically',\n",
       " 'prime',\n",
       " 'problem:',\n",
       " 'putin',\n",
       " 'rapid',\n",
       " 'riding',\n",
       " 'ruble',\n",
       " \"ruble's\",\n",
       " 'russia',\n",
       " 'russian',\n",
       " 'sanctions',\n",
       " 'seems',\n",
       " 'serious',\n",
       " 'shinzo',\n",
       " 'so',\n",
       " 'strong',\n",
       " 'that',\n",
       " 'the',\n",
       " 'things',\n",
       " 'those',\n",
       " 'to',\n",
       " 'towards',\n",
       " 'tumbled.',\n",
       " 'turmoil',\n",
       " 'us',\n",
       " 'value',\n",
       " 'view',\n",
       " 'views',\n",
       " 'violence',\n",
       " 'vladimir',\n",
       " 'we',\n",
       " \"what's\",\n",
       " 'while',\n",
       " 'working'}"
      ]
     },
     "execution_count": 45,
     "metadata": {},
     "output_type": "execute_result"
    }
   ],
   "source": [
    "all_tokens_set"
   ]
  },
  {
   "cell_type": "markdown",
   "metadata": {},
   "source": [
    "## Jaccard Similarity"
   ]
  },
  {
   "cell_type": "code",
   "execution_count": 46,
   "metadata": {
    "collapsed": true
   },
   "outputs": [],
   "source": [
    "def jaccard_similarity(query, document):\n",
    "    intersection = set(query).intersection(set(document))\n",
    "    union = set(query).union(set(document))\n",
    "    return len(intersection)/len(union)"
   ]
  },
  {
   "cell_type": "code",
   "execution_count": 47,
   "metadata": {},
   "outputs": [
    {
     "data": {
      "text/plain": [
       "0.21428571428571427"
      ]
     },
     "execution_count": 47,
     "metadata": {},
     "output_type": "execute_result"
    }
   ],
   "source": [
    "# comparing document_2 and document_4\n",
    "jaccard_similarity(tokenized_documents[2],tokenized_documents[4])"
   ]
  },
  {
   "cell_type": "code",
   "execution_count": 77,
   "metadata": {
    "collapsed": true
   },
   "outputs": [],
   "source": [
    "# Test String \n",
    "string_1 = 'I bought a car, I love you'\n",
    "string_2 = 'I bought a car'\n"
   ]
  },
  {
   "cell_type": "code",
   "execution_count": 78,
   "metadata": {},
   "outputs": [
    {
     "data": {
      "text/plain": [
       "0.6875"
      ]
     },
     "execution_count": 78,
     "metadata": {},
     "output_type": "execute_result"
    }
   ],
   "source": [
    "jaccard_similarity(string_1,string_2)"
   ]
  },
  {
   "cell_type": "markdown",
   "metadata": {},
   "source": [
    "## TF-IDF Similarity"
   ]
  },
  {
   "cell_type": "code",
   "execution_count": 66,
   "metadata": {
    "collapsed": true
   },
   "outputs": [],
   "source": [
    "def term_frequency(term, tokenized_document):\n",
    "    return tokenized_document.count(term)"
   ]
  },
  {
   "cell_type": "code",
   "execution_count": 67,
   "metadata": {
    "collapsed": true
   },
   "outputs": [],
   "source": [
    "#def sublinear_term_frequency(term, tokenized_document):\n",
    "#    count = tokenized_document.count(term)\n",
    "#    if count == 0:\n",
    "#        return 0\n",
    "#    return 1 + math.log(count)\n",
    "\n",
    "def augmented_term_frequency(term, tokenized_document):\n",
    "    max_count = max([term_frequency(t, tokenized_document) for t in tokenized_document])\n",
    "    return (0.5 + ((0.5 * term_frequency(term, tokenized_document))/max_count))"
   ]
  },
  {
   "cell_type": "code",
   "execution_count": 68,
   "metadata": {
    "collapsed": true
   },
   "outputs": [],
   "source": [
    "def inverse_document_frequencies(tokenized_documents):\n",
    "    idf_values = {}\n",
    "    all_tokens_set = set([item for sublist in tokenized_documents for item in sublist])\n",
    "    for tkn in all_tokens_set:\n",
    "        contains_token = map(lambda doc: tkn in doc, tokenized_documents)\n",
    "        idf_values[tkn] = 1 + math.log(len(tokenized_documents)/(sum(contains_token)))\n",
    "    return idf_values"
   ]
  },
  {
   "cell_type": "code",
   "execution_count": 69,
   "metadata": {},
   "outputs": [
    {
     "name": "stdout",
     "output_type": "stream",
     "text": [
      "2.9459101490553135\n",
      "1.336472236621213\n"
     ]
    }
   ],
   "source": [
    "idf_values = inverse_document_frequencies(tokenized_documents)\n",
    "print(idf_values['abenomics.'])\n",
    "print(idf_values['the'])"
   ]
  },
  {
   "cell_type": "code",
   "execution_count": 70,
   "metadata": {
    "collapsed": true
   },
   "outputs": [],
   "source": [
    "def tfidf(documents):\n",
    "    tokenized_documents = [tokenize(d) for d in documents]\n",
    "    idf = inverse_document_frequencies(tokenized_documents)\n",
    "    tfidf_documents = []\n",
    "    for document in tokenized_documents:\n",
    "        doc_tfidf = []\n",
    "        for term in idf.keys():\n",
    "            #tf = sublinear_term_frequency(term, document)\n",
    "            tf = augmented_term_frequency(term, document)\n",
    "            doc_tfidf.append(tf * idf[term])\n",
    "        tfidf_documents.append(doc_tfidf)\n",
    "    return tfidf_documents"
   ]
  },
  {
   "cell_type": "code",
   "execution_count": 71,
   "metadata": {},
   "outputs": [
    {
     "name": "stdout",
     "output_type": "stream",
     "text": [
      "[1.4729550745276567, 1.4729550745276567, 1.4729550745276567, 1.4729550745276567, 1.4729550745276567, 1.126381484247684, 1.126381484247684, 1.4729550745276567, 1.4729550745276567, 1.4729550745276567, 1.4729550745276567, 1.689572226371526, 1.4729550745276567, 1.4729550745276567, 1.4729550745276567, 1.126381484247684, 1.4729550745276567, 1.4729550745276567, 1.126381484247684, 1.4729550745276567, 2.209432611791485, 1.4729550745276567, 1.4729550745276567, 1.4729550745276567, 1.4729550745276567, 2.209432611791485, 1.126381484247684, 1.4729550745276567, 1.126381484247684, 1.4729550745276567, 1.4729550745276567, 1.126381484247684, 1.4729550745276567, 2.209432611791485, 1.4729550745276567, 2.209432611791485, 1.4729550745276567, 1.126381484247684, 2.252762968495368, 1.4729550745276567, 2.209432611791485, 1.0023541774659097, 1.4729550745276567, 1.4729550745276567, 1.4729550745276567, 1.126381484247684, 1.4729550745276567, 1.4729550745276567, 1.126381484247684, 1.4729550745276567, 1.4729550745276567, 1.3854733952904028, 1.4729550745276567, 1.4729550745276567, 1.4729550745276567, 1.689572226371526, 1.4729550745276567, 1.4729550745276567, 2.209432611791485, 1.4729550745276567, 2.209432611791485, 1.4729550745276567, 1.4729550745276567, 2.209432611791485, 1.4729550745276567, 1.4729550745276567, 1.4729550745276567, 1.4729550745276567, 1.4729550745276567, 2.209432611791485, 1.126381484247684, 1.169711840951567, 1.4729550745276567, 1.4729550745276567, 2.209432611791485, 1.126381484247684, 1.4729550745276567, 1.126381484247684, 1.4729550745276567, 1.126381484247684, 1.689572226371526, 2.209432611791485, 1.4729550745276567, 1.4729550745276567, 2.209432611791485, 1.4729550745276567, 1.4729550745276567, 1.4729550745276567, 1.126381484247684, 2.209432611791485, 1.4729550745276567, 1.126381484247684, 1.4729550745276567, 1.4729550745276567]\n",
      "String:  China has a strong economy that is growing at a rapid pace. However politically it differs greatly from the US Economy.\n"
     ]
    }
   ],
   "source": [
    "tfidf_representation = tfidf(all_documents)\n",
    "print(tfidf_representation[0])\n",
    "print(\"String: \",document_0)"
   ]
  },
  {
   "cell_type": "code",
   "execution_count": 72,
   "metadata": {},
   "outputs": [
    {
     "name": "stdout",
     "output_type": "stream",
     "text": [
      "[1.4729550745276567, 1.4729550745276567, 1.4729550745276567, 1.4729550745276567, 1.4729550745276567, 1.126381484247684, 1.126381484247684, 1.4729550745276567, 1.4729550745276567, 1.4729550745276567, 1.4729550745276567, 1.689572226371526, 1.4729550745276567, 1.4729550745276567, 1.4729550745276567, 1.126381484247684, 1.4729550745276567, 1.4729550745276567, 1.126381484247684, 1.4729550745276567, 2.209432611791485, 1.4729550745276567, 1.4729550745276567, 1.4729550745276567, 1.4729550745276567, 2.209432611791485, 1.126381484247684, 1.4729550745276567, 1.126381484247684, 1.4729550745276567, 1.4729550745276567, 1.126381484247684, 1.4729550745276567, 2.209432611791485, 1.4729550745276567, 2.209432611791485, 1.4729550745276567, 1.126381484247684, 2.252762968495368, 1.4729550745276567, 2.209432611791485, 1.0023541774659097, 1.4729550745276567, 1.4729550745276567, 1.4729550745276567, 1.126381484247684, 1.4729550745276567, 1.4729550745276567, 1.126381484247684, 1.4729550745276567, 1.4729550745276567, 1.3854733952904028, 1.4729550745276567, 1.4729550745276567, 1.4729550745276567, 1.689572226371526, 1.4729550745276567, 1.4729550745276567, 2.209432611791485, 1.4729550745276567, 2.209432611791485, 1.4729550745276567, 1.4729550745276567, 2.209432611791485, 1.4729550745276567, 1.4729550745276567, 1.4729550745276567, 1.4729550745276567, 1.4729550745276567, 2.209432611791485, 1.126381484247684, 1.169711840951567, 1.4729550745276567, 1.4729550745276567, 2.209432611791485, 1.126381484247684, 1.4729550745276567, 1.126381484247684, 1.4729550745276567, 1.126381484247684, 1.689572226371526, 2.209432611791485, 1.4729550745276567, 1.4729550745276567, 2.209432611791485, 1.4729550745276567, 1.4729550745276567, 1.4729550745276567, 1.126381484247684, 2.209432611791485, 1.4729550745276567, 1.126381484247684, 1.4729550745276567, 1.4729550745276567]\n",
      "[0.0, 0.3112012154045971, 0.0, 0.0, 0.0, 0.0, 0.0, 0.0, 0.0, 0.0, 0.0, 0.0, 0.0, 0.0, 0.18380045100490253, 0.18380045100490253, 0.0, 0.0, 0.0, 0.0, 0.0, 0.0, 0.0, 0.2403535665263221, 0.0, 0.0, 0.0, 0.18380045100490253, 0.0, 0.2403535665263221, 0.0, 0.0, 0.0, 0.0, 0.0, 0.2403535665263221, 0.0, 0.2403535665263221, 0.2403535665263221, 0.0, 0.15071899912592052, 0.0, 0.0, 0.0, 0.0, 0.0, 0.2403535665263221, 0.0, 0.0, 0.127247335483483, 0.2403535665263221, 0.0, 0.0, 0.0, 0.0, 0.0, 0.0, 0.0, 0.2403535665263221, 0.0, 0.2403535665263221, 0.0, 0.0, 0.0, 0.2403535665263221, 0.0, 0.0, 0.0, 0.0, 0.0, 0.0, 0.0, 0.0, 0.0, 0.0, 0.2403535665263221, 0.2403535665263221, 0.10904129874372748, 0.0, 0.0, 0.0, 0.0, 0.0, 0.0, 0.2403535665263221, 0.0, 0.0, 0.0, 0.0, 0.0, 0.0, 0.0, 0.0, 0.0]\n",
      "China has a strong economy that is growing at a rapid pace. However politically it differs greatly from the US Economy.\n"
     ]
    }
   ],
   "source": [
    "from sklearn.feature_extraction.text import TfidfVectorizer\n",
    "\n",
    "sklearn_tfidf = TfidfVectorizer(norm='l2',min_df=0, use_idf=True, smooth_idf=False, sublinear_tf=True, tokenizer=tokenize)\n",
    "\n",
    "sklearn_representation = sklearn_tfidf.fit_transform(all_documents)\n",
    "print(tfidf_representation[0])\n",
    "print(sklearn_representation.toarray()[0].tolist())\n",
    "print(document_0)"
   ]
  },
  {
   "cell_type": "code",
   "execution_count": 73,
   "metadata": {
    "collapsed": true
   },
   "outputs": [],
   "source": [
    "def cosine_similarity(vector1, vector2):\n",
    "    dot_product = sum(p*q for p,q in zip(vector1, vector2))\n",
    "    magnitude = math.sqrt(sum([val**2 for val in vector1])) * math.sqrt(sum([val**2 for val in vector2]))\n",
    "    if not magnitude:\n",
    "        return 0\n",
    "    return dot_product/magnitude"
   ]
  },
  {
   "cell_type": "code",
   "execution_count": 74,
   "metadata": {},
   "outputs": [
    {
     "name": "stdout",
     "output_type": "stream",
     "text": [
      "((1.0000000000000002, 4, 4), (1.0000000000000002, 6, 6))\n",
      "((1.0000000000000002, 2, 2), (1.0000000000000002, 2, 2))\n",
      "((1.0, 6, 6), (1.0000000000000002, 0, 0))\n",
      "((1.0, 5, 5), (1.0, 5, 5))\n",
      "((1.0, 3, 3), (1.0, 4, 4))\n",
      "((1.0, 0, 0), (1.0, 3, 3))\n",
      "((0.9999999999999998, 1, 1), (1.0, 1, 1))\n",
      "((0.9770488629505589, 3, 2), (0.29310925698840595, 4, 2))\n",
      "((0.9770488629505589, 2, 3), (0.29310925698840595, 2, 4))\n",
      "((0.9699118646023268, 5, 3), (0.16506306906464616, 6, 3))\n",
      "((0.9699118646023268, 3, 5), (0.16506306906464616, 3, 6))\n",
      "((0.9690036262581565, 5, 2), (0.14060334967136984, 3, 2))\n",
      "((0.9690036262581565, 2, 5), (0.14060334967136984, 2, 3))\n",
      "((0.9689890437129889, 3, 0), (0.11766551247749867, 3, 0))\n",
      "((0.9689890437129889, 0, 3), (0.11766551247749867, 0, 3))\n",
      "((0.9672437545307783, 2, 0), (0.11478807222952396, 5, 3))\n",
      "((0.9672437545307783, 0, 2), (0.11478807222952396, 3, 5))\n",
      "((0.9665492674741823, 6, 3), (0.11212208176085793, 6, 1))\n",
      "((0.9665492674741823, 3, 6), (0.11212208176085793, 1, 6))\n",
      "((0.9615473116819654, 6, 2), (0.08140732228934984, 1, 0))\n",
      "((0.9615473116819654, 2, 6), (0.08140732228934984, 0, 1))\n",
      "((0.9605469908634687, 4, 2), (0.077692573589991931, 6, 0))\n",
      "((0.9605469908634687, 2, 4), (0.077692573589991931, 0, 6))\n",
      "((0.9596172161224312, 5, 0), (0.063856952156243624, 5, 2))\n",
      "((0.9596172161224312, 0, 5), (0.063856952156243624, 2, 5))\n",
      "((0.9556344499967491, 6, 0), (0.062016241985445517, 6, 5))\n",
      "((0.9556344499967491, 0, 6), (0.062016241985445517, 5, 6))\n",
      "((0.9548429322504276, 6, 5), (0.042832542061084229, 5, 0))\n",
      "((0.9548429322504276, 5, 6), (0.042832542061084229, 0, 5))\n",
      "((0.9469911821138982, 4, 3), (0.035139434543712877, 4, 3))\n",
      "((0.9469911821138982, 3, 4), (0.035139434543712877, 3, 4))\n",
      "((0.9396849092808236, 5, 4), (0.034188679245275355, 2, 0))\n",
      "((0.9396849092808236, 4, 5), (0.034188679245275355, 0, 2))\n",
      "((0.9382103424904544, 4, 0), (0.027710443726288551, 5, 4))\n",
      "((0.9382103424904544, 0, 4), (0.027710443726288551, 4, 5))\n",
      "((0.938124878333153, 2, 1), (0.023693226722828954, 6, 2))\n",
      "((0.938124878333153, 1, 2), (0.023693226722828954, 2, 6))\n",
      "((0.9371953903238706, 3, 1), (0.016372043415710743, 4, 0))\n",
      "((0.9371953903238706, 1, 3), (0.016372043415710743, 0, 4))\n",
      "((0.9339451268578037, 1, 0), (0.0, 6, 4))\n",
      "((0.9339451268578037, 0, 1), (0.0, 5, 1))\n",
      "((0.9317308233038784, 6, 4), (0.0, 4, 6))\n",
      "((0.9317308233038784, 4, 6), (0.0, 4, 1))\n",
      "((0.9307803012915686, 6, 1), (0.0, 3, 1))\n",
      "((0.9307803012915686, 1, 6), (0.0, 2, 1))\n",
      "((0.9291940018894383, 5, 1), (0.0, 1, 5))\n",
      "((0.9291940018894383, 1, 5), (0.0, 1, 4))\n",
      "((0.9091884396976015, 4, 1), (0.0, 1, 3))\n",
      "((0.9091884396976015, 1, 4), (0.0, 1, 2))\n"
     ]
    }
   ],
   "source": [
    "tfidf_representation = tfidf(all_documents)\n",
    "our_tfidf_comparisons = []\n",
    "for count_0, doc_0 in enumerate(tfidf_representation):\n",
    "    for count_1, doc_1 in enumerate(tfidf_representation):\n",
    "        our_tfidf_comparisons.append((cosine_similarity(doc_0, doc_1), count_0, count_1))\n",
    "\n",
    "        \n",
    "skl_tfidf_comparisons = []\n",
    "for count_0, doc_0 in enumerate(sklearn_representation.toarray()):\n",
    "    for count_1, doc_1 in enumerate(sklearn_representation.toarray()):\n",
    "        skl_tfidf_comparisons.append((cosine_similarity(doc_0, doc_1), count_0, count_1))\n",
    "\n",
    "for x in zip(sorted(our_tfidf_comparisons, reverse = True), sorted(skl_tfidf_comparisons, reverse = True)):\n",
    "    print(x)"
   ]
  },
  {
   "cell_type": "code",
   "execution_count": 81,
   "metadata": {},
   "outputs": [
    {
     "data": {
      "text/plain": [
       "[['china',\n",
       "  'has',\n",
       "  'a',\n",
       "  'strong',\n",
       "  'economy',\n",
       "  'that',\n",
       "  'is',\n",
       "  'growing',\n",
       "  'at',\n",
       "  'a',\n",
       "  'rapid',\n",
       "  'pace.',\n",
       "  'however',\n",
       "  'politically',\n",
       "  'it',\n",
       "  'differs',\n",
       "  'greatly',\n",
       "  'from',\n",
       "  'the',\n",
       "  'us',\n",
       "  'economy.'],\n",
       " ['at',\n",
       "  'last,',\n",
       "  'china',\n",
       "  'seems',\n",
       "  'serious',\n",
       "  'about',\n",
       "  'confronting',\n",
       "  'an',\n",
       "  'endemic',\n",
       "  'problem:',\n",
       "  'domestic',\n",
       "  'violence',\n",
       "  'and',\n",
       "  'corruption.'],\n",
       " [\"japan's\",\n",
       "  'prime',\n",
       "  'minister,',\n",
       "  'shinzo',\n",
       "  'abe,',\n",
       "  'is',\n",
       "  'working',\n",
       "  'towards',\n",
       "  'healing',\n",
       "  'the',\n",
       "  'economic',\n",
       "  'turmoil',\n",
       "  'in',\n",
       "  'his',\n",
       "  'own',\n",
       "  'country',\n",
       "  'for',\n",
       "  'his',\n",
       "  'view',\n",
       "  'on',\n",
       "  'the',\n",
       "  'future',\n",
       "  'of',\n",
       "  'his',\n",
       "  'people.'],\n",
       " ['vladimir',\n",
       "  'putin',\n",
       "  'is',\n",
       "  'working',\n",
       "  'hard',\n",
       "  'to',\n",
       "  'fix',\n",
       "  'the',\n",
       "  'economy',\n",
       "  'in',\n",
       "  'russia',\n",
       "  'as',\n",
       "  'the',\n",
       "  'ruble',\n",
       "  'has',\n",
       "  'tumbled.'],\n",
       " [\"what's\",\n",
       "  'the',\n",
       "  'future',\n",
       "  'of',\n",
       "  'abenomics.',\n",
       "  'we',\n",
       "  'asked',\n",
       "  'shinzo',\n",
       "  'abe',\n",
       "  'for',\n",
       "  'his',\n",
       "  'views'],\n",
       " ['obama',\n",
       "  'has',\n",
       "  'eased',\n",
       "  'sanctions',\n",
       "  'on',\n",
       "  'cuba',\n",
       "  'while',\n",
       "  'accelerating',\n",
       "  'those',\n",
       "  'against',\n",
       "  'the',\n",
       "  'russian',\n",
       "  'economy,',\n",
       "  'even',\n",
       "  'as',\n",
       "  'the',\n",
       "  \"ruble's\",\n",
       "  'value',\n",
       "  'falls',\n",
       "  'almost',\n",
       "  'daily.'],\n",
       " ['vladimir',\n",
       "  'putin',\n",
       "  'is',\n",
       "  'riding',\n",
       "  'a',\n",
       "  'horse',\n",
       "  'while',\n",
       "  'hunting',\n",
       "  'deer.',\n",
       "  'vladimir',\n",
       "  'putin',\n",
       "  'always',\n",
       "  'seems',\n",
       "  'so',\n",
       "  'serious',\n",
       "  'about',\n",
       "  'things',\n",
       "  '-',\n",
       "  'even',\n",
       "  'riding',\n",
       "  'horses.',\n",
       "  'is',\n",
       "  'he',\n",
       "  'crazy?']]"
      ]
     },
     "execution_count": 81,
     "metadata": {},
     "output_type": "execute_result"
    }
   ],
   "source": [
    "#### Testing Tf-idf\n",
    "tokenized_documents"
   ]
  },
  {
   "cell_type": "code",
   "execution_count": 82,
   "metadata": {},
   "outputs": [
    {
     "data": {
      "text/plain": [
       "{'-': 2.9459101490553135,\n",
       " 'a': 2.252762968495368,\n",
       " 'abe': 2.9459101490553135,\n",
       " 'abe,': 2.9459101490553135,\n",
       " 'abenomics.': 2.9459101490553135,\n",
       " 'about': 2.252762968495368,\n",
       " 'accelerating': 2.9459101490553135,\n",
       " 'against': 2.9459101490553135,\n",
       " 'almost': 2.9459101490553135,\n",
       " 'always': 2.9459101490553135,\n",
       " 'an': 2.9459101490553135,\n",
       " 'and': 2.9459101490553135,\n",
       " 'as': 2.252762968495368,\n",
       " 'asked': 2.9459101490553135,\n",
       " 'at': 2.252762968495368,\n",
       " 'china': 2.252762968495368,\n",
       " 'confronting': 2.9459101490553135,\n",
       " 'corruption.': 2.9459101490553135,\n",
       " 'country': 2.9459101490553135,\n",
       " 'crazy?': 2.9459101490553135,\n",
       " 'cuba': 2.9459101490553135,\n",
       " 'daily.': 2.9459101490553135,\n",
       " 'deer.': 2.9459101490553135,\n",
       " 'differs': 2.9459101490553135,\n",
       " 'domestic': 2.9459101490553135,\n",
       " 'eased': 2.9459101490553135,\n",
       " 'economic': 2.9459101490553135,\n",
       " 'economy': 2.252762968495368,\n",
       " 'economy,': 2.9459101490553135,\n",
       " 'economy.': 2.9459101490553135,\n",
       " 'endemic': 2.9459101490553135,\n",
       " 'even': 2.252762968495368,\n",
       " 'falls': 2.9459101490553135,\n",
       " 'fix': 2.9459101490553135,\n",
       " 'for': 2.252762968495368,\n",
       " 'from': 2.9459101490553135,\n",
       " 'future': 2.252762968495368,\n",
       " 'greatly': 2.9459101490553135,\n",
       " 'growing': 2.9459101490553135,\n",
       " 'hard': 2.9459101490553135,\n",
       " 'has': 1.8472978603872037,\n",
       " 'he': 2.9459101490553135,\n",
       " 'healing': 2.9459101490553135,\n",
       " 'his': 2.252762968495368,\n",
       " 'horse': 2.9459101490553135,\n",
       " 'horses.': 2.9459101490553135,\n",
       " 'however': 2.9459101490553135,\n",
       " 'hunting': 2.9459101490553135,\n",
       " 'in': 2.252762968495368,\n",
       " 'is': 1.5596157879354227,\n",
       " 'it': 2.9459101490553135,\n",
       " \"japan's\": 2.9459101490553135,\n",
       " 'last,': 2.9459101490553135,\n",
       " 'minister,': 2.9459101490553135,\n",
       " 'obama': 2.9459101490553135,\n",
       " 'of': 2.252762968495368,\n",
       " 'on': 2.252762968495368,\n",
       " 'own': 2.9459101490553135,\n",
       " 'pace.': 2.9459101490553135,\n",
       " 'people.': 2.9459101490553135,\n",
       " 'politically': 2.9459101490553135,\n",
       " 'prime': 2.9459101490553135,\n",
       " 'problem:': 2.9459101490553135,\n",
       " 'putin': 2.252762968495368,\n",
       " 'rapid': 2.9459101490553135,\n",
       " 'riding': 2.9459101490553135,\n",
       " 'ruble': 2.9459101490553135,\n",
       " \"ruble's\": 2.9459101490553135,\n",
       " 'russia': 2.9459101490553135,\n",
       " 'russian': 2.9459101490553135,\n",
       " 'sanctions': 2.9459101490553135,\n",
       " 'seems': 2.252762968495368,\n",
       " 'serious': 2.252762968495368,\n",
       " 'shinzo': 2.252762968495368,\n",
       " 'so': 2.9459101490553135,\n",
       " 'strong': 2.9459101490553135,\n",
       " 'that': 2.9459101490553135,\n",
       " 'the': 1.336472236621213,\n",
       " 'things': 2.9459101490553135,\n",
       " 'those': 2.9459101490553135,\n",
       " 'to': 2.9459101490553135,\n",
       " 'towards': 2.9459101490553135,\n",
       " 'tumbled.': 2.9459101490553135,\n",
       " 'turmoil': 2.9459101490553135,\n",
       " 'us': 2.9459101490553135,\n",
       " 'value': 2.9459101490553135,\n",
       " 'view': 2.9459101490553135,\n",
       " 'views': 2.9459101490553135,\n",
       " 'violence': 2.9459101490553135,\n",
       " 'vladimir': 2.252762968495368,\n",
       " 'we': 2.9459101490553135,\n",
       " \"what's\": 2.9459101490553135,\n",
       " 'while': 2.252762968495368,\n",
       " 'working': 2.252762968495368}"
      ]
     },
     "execution_count": 82,
     "metadata": {},
     "output_type": "execute_result"
    }
   ],
   "source": [
    "idf_values"
   ]
  },
  {
   "cell_type": "code",
   "execution_count": null,
   "metadata": {
    "collapsed": true
   },
   "outputs": [],
   "source": []
  }
 ],
 "metadata": {
  "kernelspec": {
   "display_name": "Python 3",
   "language": "python",
   "name": "python3"
  },
  "language_info": {
   "codemirror_mode": {
    "name": "ipython",
    "version": 3
   },
   "file_extension": ".py",
   "mimetype": "text/x-python",
   "name": "python",
   "nbconvert_exporter": "python",
   "pygments_lexer": "ipython3",
   "version": "3.5.4"
  }
 },
 "nbformat": 4,
 "nbformat_minor": 2
}
